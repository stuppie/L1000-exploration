{
 "cells": [
  {
   "cell_type": "code",
   "execution_count": 6,
   "metadata": {
    "collapsed": true
   },
   "outputs": [],
   "source": [
    "# Download the L1000 apis\n",
    "import requests\n",
    "import json\n",
    "import pandas as pd\n",
    "import numpy as np"
   ]
  },
  {
   "cell_type": "code",
   "execution_count": null,
   "metadata": {
    "collapsed": true
   },
   "outputs": [],
   "source": [
    "# Download the entire API\n",
    "url = \"http://api.lincscloud.org/a2/pertinfo?q={}&l=100000&user_key=lincsdemo\"\n",
    "r = requests.get(url)\n",
    "l1000_drugs = r.json()\n",
    "with open(\"l1000_pertinfo.json\",'w') as f:\n",
    "    json.dump(l1000_drugs, f, indent=2)"
   ]
  },
  {
   "cell_type": "code",
   "execution_count": 8,
   "metadata": {
    "collapsed": true
   },
   "outputs": [],
   "source": [
    "# Load in cell line info\n",
    "with open(\"l1000_pertinfo.json\") as f:\n",
    "    l1000_pertinfo = json.load(f)\n",
    "l1000_pertinfo = {x['pert_id']:x for x in l1000_pertinfo if 'pert_id' in x}\n",
    "pert_info = pd.DataFrame(l1000_pertinfo).T.replace([-666,\"-666\"], np.nan)\n",
    "pert_info.to_csv(\"l1000_pertinfo.csv\")"
   ]
  },
  {
   "cell_type": "code",
   "execution_count": null,
   "metadata": {
    "collapsed": false
   },
   "outputs": [],
   "source": [
    "# Download the entire API\n",
    "url = \"http://api.lincscloud.org/a2/cellinfo?q={}&l=100000&user_key=lincsdemo\"\n",
    "r = requests.get(url)\n",
    "l1000_cellinfo = r.json()\n",
    "with open(\"l1000_cellinfo.json\",'w') as f:\n",
    "    json.dump(l1000_cellinfo, f, indent=2)"
   ]
  },
  {
   "cell_type": "code",
   "execution_count": 7,
   "metadata": {
    "collapsed": false
   },
   "outputs": [],
   "source": [
    "# Load in cell line info\n",
    "with open(\"l1000_cellinfo.json\") as f:\n",
    "    l1000_cellinfo = json.load(f)\n",
    "l1000_cellinfo = {x['cell_id']:x for x in l1000_cellinfo if 'cell_id' in x}\n",
    "cell_info = pd.DataFrame(l1000_cellinfo).T.replace([-666,\"-666\"], np.nan)\n",
    "cell_info.to_csv(\"l1000_cellinfo.csv\")"
   ]
  },
  {
   "cell_type": "code",
   "execution_count": null,
   "metadata": {
    "collapsed": true
   },
   "outputs": [],
   "source": [
    "# Download the entire API\n",
    "url = \"http://api.lincscloud.org/a2/geneinfo?q={}&l=100000&user_key=lincsdemo\"\n",
    "r = requests.get(url)\n",
    "l1000_geneinfo = r.json()\n",
    "with open(\"l1000_geneinfo.json\",'w') as f:\n",
    "    json.dump(l1000_geneinfo, f, indent=2)"
   ]
  }
 ],
 "metadata": {
  "kernelspec": {
   "display_name": "Python 3",
   "language": "python",
   "name": "python3"
  },
  "language_info": {
   "codemirror_mode": {
    "name": "ipython",
    "version": 3
   },
   "file_extension": ".py",
   "mimetype": "text/x-python",
   "name": "python",
   "nbconvert_exporter": "python",
   "pygments_lexer": "ipython3",
   "version": "3.5.2"
  }
 },
 "nbformat": 4,
 "nbformat_minor": 0
}

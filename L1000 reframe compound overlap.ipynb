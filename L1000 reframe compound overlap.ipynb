{
 "cells": [
  {
   "cell_type": "code",
   "execution_count": 2,
   "metadata": {
    "collapsed": true
   },
   "outputs": [],
   "source": [
    "from tqdm import tqdm\n",
    "from pymongo import MongoClient\n",
    "from collections import Counter\n",
    "import pandas as pd\n",
    "import numpy as np\n",
    "import seaborn as sns\n",
    "import urllib\n",
    "import requests\n",
    "import json\n",
    "import bson\n",
    "import time\n",
    "%matplotlib inline"
   ]
  },
  {
   "cell_type": "markdown",
   "metadata": {},
   "source": [
    "## Load Reframe data"
   ]
  },
  {
   "cell_type": "code",
   "execution_count": 3,
   "metadata": {
    "collapsed": false
   },
   "outputs": [
    {
     "data": {
      "text/html": [
       "<div>\n",
       "<table border=\"1\" class=\"dataframe\">\n",
       "  <thead>\n",
       "    <tr style=\"text-align: right;\">\n",
       "      <th></th>\n",
       "      <th>inchi_key</th>\n",
       "      <th>inchi</th>\n",
       "      <th>orig_smiles</th>\n",
       "      <th>can_smiles</th>\n",
       "      <th>iso_smiles</th>\n",
       "      <th>cid</th>\n",
       "      <th>sids</th>\n",
       "      <th>chem_names</th>\n",
       "      <th>unii</th>\n",
       "      <th>trivial_name</th>\n",
       "      <th>chembl</th>\n",
       "      <th>surechembl</th>\n",
       "      <th>chebi</th>\n",
       "    </tr>\n",
       "  </thead>\n",
       "  <tbody>\n",
       "    <tr>\n",
       "      <th>0</th>\n",
       "      <td>WXGNWUVNYMJENI-UHFFFAOYSA-N</td>\n",
       "      <td>InChI=1S/C2H2F4/c3-1(4)2(5)6/h1-2H</td>\n",
       "      <td>C(C(F)(F))(F)F</td>\n",
       "      <td>NaN</td>\n",
       "      <td>NaN</td>\n",
       "      <td>CID9667</td>\n",
       "      <td>NaN</td>\n",
       "      <td>NaN</td>\n",
       "      <td>NaN</td>\n",
       "      <td>NaN</td>\n",
       "      <td>NaN</td>\n",
       "      <td>NaN</td>\n",
       "      <td>NaN</td>\n",
       "    </tr>\n",
       "    <tr>\n",
       "      <th>1</th>\n",
       "      <td>ONCYRMPVWWXSGC-BVWFLDLOSA-N</td>\n",
       "      <td>InChI=1S/C37H40N6O13/c1-2-37(23-14-27-32-20(13...</td>\n",
       "      <td>N[C@H](C(=O)N[C@H](C(=O)N[C@H](C(=O))CCC(=O)O)...</td>\n",
       "      <td>NaN</td>\n",
       "      <td>NaN</td>\n",
       "      <td>NaN</td>\n",
       "      <td>NaN</td>\n",
       "      <td>NaN</td>\n",
       "      <td>NaN</td>\n",
       "      <td>NaN</td>\n",
       "      <td>NaN</td>\n",
       "      <td>NaN</td>\n",
       "      <td>NaN</td>\n",
       "    </tr>\n",
       "    <tr>\n",
       "      <th>2</th>\n",
       "      <td>HECMXPDHJXQWCF-IZEVAHMFSA-N</td>\n",
       "      <td>InChI=1S/C80H83Cl2N9O32/c1-27(95)85-60-66(104)...</td>\n",
       "      <td>N[C@H]1[C@@H](O[C@@H]([C@H]([C@@H]1O)O)CO)Oc1c...</td>\n",
       "      <td>NaN</td>\n",
       "      <td>NaN</td>\n",
       "      <td>NaN</td>\n",
       "      <td>NaN</td>\n",
       "      <td>NaN</td>\n",
       "      <td>NaN</td>\n",
       "      <td>NaN</td>\n",
       "      <td>NaN</td>\n",
       "      <td>NaN</td>\n",
       "      <td>NaN</td>\n",
       "    </tr>\n",
       "    <tr>\n",
       "      <th>3</th>\n",
       "      <td>KAVDAMFOTJIBCK-CTNBOOGPSA-N</td>\n",
       "      <td>InChI=1S/C12H15BrN2O4/c13-2-1-7-5-15(12(19)14-...</td>\n",
       "      <td>Br/C=C/c1cn([C@@H]2C[C@@H]([C@H](C2)O)CO)c(=O)...</td>\n",
       "      <td>NaN</td>\n",
       "      <td>NaN</td>\n",
       "      <td>CID6479188</td>\n",
       "      <td>NaN</td>\n",
       "      <td>NaN</td>\n",
       "      <td>NaN</td>\n",
       "      <td>NaN</td>\n",
       "      <td>NaN</td>\n",
       "      <td>NaN</td>\n",
       "      <td>NaN</td>\n",
       "    </tr>\n",
       "    <tr>\n",
       "      <th>4</th>\n",
       "      <td>ODZBBRURCPAEIQ-PIXDULNESA-N</td>\n",
       "      <td>InChI=1S/C11H13BrN2O5/c12-2-1-6-4-14(11(18)13-...</td>\n",
       "      <td>Br/C=C/c1cn([C@H]2C[C@@H]([C@H](O2)CO)O)c(=O)[...</td>\n",
       "      <td>NaN</td>\n",
       "      <td>NaN</td>\n",
       "      <td>CID446727</td>\n",
       "      <td>NaN</td>\n",
       "      <td>NaN</td>\n",
       "      <td>NaN</td>\n",
       "      <td>NaN</td>\n",
       "      <td>NaN</td>\n",
       "      <td>NaN</td>\n",
       "      <td>NaN</td>\n",
       "    </tr>\n",
       "  </tbody>\n",
       "</table>\n",
       "</div>"
      ],
      "text/plain": [
       "                     inchi_key  \\\n",
       "0  WXGNWUVNYMJENI-UHFFFAOYSA-N   \n",
       "1  ONCYRMPVWWXSGC-BVWFLDLOSA-N   \n",
       "2  HECMXPDHJXQWCF-IZEVAHMFSA-N   \n",
       "3  KAVDAMFOTJIBCK-CTNBOOGPSA-N   \n",
       "4  ODZBBRURCPAEIQ-PIXDULNESA-N   \n",
       "\n",
       "                                               inchi  \\\n",
       "0                 InChI=1S/C2H2F4/c3-1(4)2(5)6/h1-2H   \n",
       "1  InChI=1S/C37H40N6O13/c1-2-37(23-14-27-32-20(13...   \n",
       "2  InChI=1S/C80H83Cl2N9O32/c1-27(95)85-60-66(104)...   \n",
       "3  InChI=1S/C12H15BrN2O4/c13-2-1-7-5-15(12(19)14-...   \n",
       "4  InChI=1S/C11H13BrN2O5/c12-2-1-6-4-14(11(18)13-...   \n",
       "\n",
       "                                         orig_smiles  can_smiles  iso_smiles  \\\n",
       "0                                     C(C(F)(F))(F)F         NaN         NaN   \n",
       "1  N[C@H](C(=O)N[C@H](C(=O)N[C@H](C(=O))CCC(=O)O)...         NaN         NaN   \n",
       "2  N[C@H]1[C@@H](O[C@@H]([C@H]([C@@H]1O)O)CO)Oc1c...         NaN         NaN   \n",
       "3  Br/C=C/c1cn([C@@H]2C[C@@H]([C@H](C2)O)CO)c(=O)...         NaN         NaN   \n",
       "4  Br/C=C/c1cn([C@H]2C[C@@H]([C@H](O2)CO)O)c(=O)[...         NaN         NaN   \n",
       "\n",
       "          cid  sids  chem_names  unii  trivial_name  chembl  surechembl  chebi  \n",
       "0     CID9667   NaN         NaN   NaN           NaN     NaN         NaN    NaN  \n",
       "1         NaN   NaN         NaN   NaN           NaN     NaN         NaN    NaN  \n",
       "2         NaN   NaN         NaN   NaN           NaN     NaN         NaN    NaN  \n",
       "3  CID6479188   NaN         NaN   NaN           NaN     NaN         NaN    NaN  \n",
       "4   CID446727   NaN         NaN   NaN           NaN     NaN         NaN    NaN  "
      ]
     },
     "execution_count": 3,
     "metadata": {},
     "output_type": "execute_result"
    }
   ],
   "source": [
    "# source: Sebastian Burgstaller\n",
    "reframe = pd.read_csv(\"reframe_compounds.csv\", index_col=0)\n",
    "reframe.head()"
   ]
  },
  {
   "cell_type": "code",
   "execution_count": 4,
   "metadata": {
    "collapsed": false
   },
   "outputs": [
    {
     "name": "stdout",
     "output_type": "stream",
     "text": [
      "number of reframe compounds: 10116\n",
      "number of unique reframe pubchem ids: 9034\n",
      "number of unique reframe inchi keys: 10068\n",
      "number of unique reframe inchi connectivities: 9684\n"
     ]
    }
   ],
   "source": [
    "reframe_pubchem = set(list(reframe.cid))\n",
    "reframe_inchi_key = set(list(reframe.inchi_key))\n",
    "reframe_inchi0 = set(x.split('-',1)[0] for x in reframe_inchi_key)\n",
    "print(\"number of reframe compounds: {}\".format(len(reframe)))\n",
    "print(\"number of unique reframe pubchem ids: {}\".format(len(reframe_pubchem)))\n",
    "print(\"number of unique reframe inchi keys: {}\".format(len(reframe_inchi_key)))\n",
    "print(\"number of unique reframe inchi connectivities: {}\".format(len(reframe_inchi0)))\n"
   ]
  },
  {
   "cell_type": "markdown",
   "metadata": {},
   "source": [
    "## Load in L1000 perturbation info"
   ]
  },
  {
   "cell_type": "code",
   "execution_count": 5,
   "metadata": {
    "collapsed": false
   },
   "outputs": [
    {
     "data": {
      "text/html": [
       "<div>\n",
       "<table border=\"1\" class=\"dataframe\">\n",
       "  <thead>\n",
       "    <tr style=\"text-align: right;\">\n",
       "      <th></th>\n",
       "      <th>_id</th>\n",
       "      <th>alt_name</th>\n",
       "      <th>canonical_smiles</th>\n",
       "      <th>cell_id</th>\n",
       "      <th>clone_name</th>\n",
       "      <th>in_summly</th>\n",
       "      <th>inchi_key</th>\n",
       "      <th>inchi_string</th>\n",
       "      <th>logp</th>\n",
       "      <th>mls_id</th>\n",
       "      <th>...</th>\n",
       "      <th>pert_vendor</th>\n",
       "      <th>pubchem_cid</th>\n",
       "      <th>seed_seq6</th>\n",
       "      <th>seed_seq7</th>\n",
       "      <th>sig_id</th>\n",
       "      <th>sig_id_gold</th>\n",
       "      <th>structure_url</th>\n",
       "      <th>target_region</th>\n",
       "      <th>target_seq</th>\n",
       "      <th>vector_id</th>\n",
       "    </tr>\n",
       "  </thead>\n",
       "  <tbody>\n",
       "    <tr>\n",
       "      <th>BRD-A00100033</th>\n",
       "      <td>515b60e1a8898537028bd15b</td>\n",
       "      <td>NaN</td>\n",
       "      <td>CC1CS(=O)(=O)CCN1N=Cc2ccc(o2)[N+](=O)[O-]</td>\n",
       "      <td>[HA1E, HCC515, PC3, VCAP, A375, A549, ASC, HEP...</td>\n",
       "      <td>NaN</td>\n",
       "      <td>NaN</td>\n",
       "      <td>ARFHIAQFJWUCFH-UHFFFAOYSA-N</td>\n",
       "      <td>InChI=1S/C10H13N3O5S/c1-8-7-19(16,17)5-4-12(8)...</td>\n",
       "      <td>-0.27</td>\n",
       "      <td>NaN</td>\n",
       "      <td>...</td>\n",
       "      <td>Prestwick</td>\n",
       "      <td>CID6842999</td>\n",
       "      <td>NaN</td>\n",
       "      <td>NaN</td>\n",
       "      <td>[CPC003_HA1E_6H:BRD-A00100033-001-04-8:10, CPC...</td>\n",
       "      <td>[CPC015_A375_6H:BRD-A00100033-001-04-8:10]</td>\n",
       "      <td>http://data.lincscloud.org/pert_images/BRD-A00...</td>\n",
       "      <td>NaN</td>\n",
       "      <td>NaN</td>\n",
       "      <td>NaN</td>\n",
       "    </tr>\n",
       "    <tr>\n",
       "      <th>BRD-A00150179</th>\n",
       "      <td>515b6108a8898537028c6186</td>\n",
       "      <td>NaN</td>\n",
       "      <td>NC(Cc1c[nH]c2cccc(O)c12)C(O)=O</td>\n",
       "      <td>[FIBRNPC, NEU, NEU.KCL, NPC]</td>\n",
       "      <td>NaN</td>\n",
       "      <td>NaN</td>\n",
       "      <td>QSHLMQDRPXXYEE-UHFFFAOYSA-N</td>\n",
       "      <td>InChI=1S/C11H12N2O3/c12-7(11(15)16)4-6-5-13-8-...</td>\n",
       "      <td>-1.53</td>\n",
       "      <td>NaN</td>\n",
       "      <td>...</td>\n",
       "      <td>Enzo</td>\n",
       "      <td>CID589768</td>\n",
       "      <td>NaN</td>\n",
       "      <td>NaN</td>\n",
       "      <td>[NMH001_FIBRNPC_6H:BRD-A00150179-001-01-3:10, ...</td>\n",
       "      <td>[NMH001_FIBRNPC_24H:BRD-A00150179-001-01-3:10,...</td>\n",
       "      <td>http://data.lincscloud.org/pert_images/BRD-A00...</td>\n",
       "      <td>NaN</td>\n",
       "      <td>NaN</td>\n",
       "      <td>NaN</td>\n",
       "    </tr>\n",
       "  </tbody>\n",
       "</table>\n",
       "<p>2 rows × 34 columns</p>\n",
       "</div>"
      ],
      "text/plain": [
       "                                    _id alt_name  \\\n",
       "BRD-A00100033  515b60e1a8898537028bd15b      NaN   \n",
       "BRD-A00150179  515b6108a8898537028c6186      NaN   \n",
       "\n",
       "                                        canonical_smiles  \\\n",
       "BRD-A00100033  CC1CS(=O)(=O)CCN1N=Cc2ccc(o2)[N+](=O)[O-]   \n",
       "BRD-A00150179             NC(Cc1c[nH]c2cccc(O)c12)C(O)=O   \n",
       "\n",
       "                                                         cell_id clone_name  \\\n",
       "BRD-A00100033  [HA1E, HCC515, PC3, VCAP, A375, A549, ASC, HEP...        NaN   \n",
       "BRD-A00150179                       [FIBRNPC, NEU, NEU.KCL, NPC]        NaN   \n",
       "\n",
       "              in_summly                    inchi_key  \\\n",
       "BRD-A00100033       NaN  ARFHIAQFJWUCFH-UHFFFAOYSA-N   \n",
       "BRD-A00150179       NaN  QSHLMQDRPXXYEE-UHFFFAOYSA-N   \n",
       "\n",
       "                                                    inchi_string  logp mls_id  \\\n",
       "BRD-A00100033  InChI=1S/C10H13N3O5S/c1-8-7-19(16,17)5-4-12(8)... -0.27    NaN   \n",
       "BRD-A00150179  InChI=1S/C11H12N2O3/c12-7(11(15)16)4-6-5-13-8-... -1.53    NaN   \n",
       "\n",
       "                 ...    pert_vendor pubchem_cid seed_seq6 seed_seq7  \\\n",
       "BRD-A00100033    ...      Prestwick  CID6842999       NaN       NaN   \n",
       "BRD-A00150179    ...           Enzo   CID589768       NaN       NaN   \n",
       "\n",
       "                                                          sig_id  \\\n",
       "BRD-A00100033  [CPC003_HA1E_6H:BRD-A00100033-001-04-8:10, CPC...   \n",
       "BRD-A00150179  [NMH001_FIBRNPC_6H:BRD-A00150179-001-01-3:10, ...   \n",
       "\n",
       "                                                     sig_id_gold  \\\n",
       "BRD-A00100033         [CPC015_A375_6H:BRD-A00100033-001-04-8:10]   \n",
       "BRD-A00150179  [NMH001_FIBRNPC_24H:BRD-A00150179-001-01-3:10,...   \n",
       "\n",
       "                                                   structure_url  \\\n",
       "BRD-A00100033  http://data.lincscloud.org/pert_images/BRD-A00...   \n",
       "BRD-A00150179  http://data.lincscloud.org/pert_images/BRD-A00...   \n",
       "\n",
       "              target_region target_seq vector_id  \n",
       "BRD-A00100033           NaN        NaN       NaN  \n",
       "BRD-A00150179           NaN        NaN       NaN  \n",
       "\n",
       "[2 rows x 34 columns]"
      ]
     },
     "execution_count": 5,
     "metadata": {},
     "output_type": "execute_result"
    }
   ],
   "source": [
    "# source: \"download l1000 metadata info.ipynb\"\n",
    "with open(\"l1000_pertinfo.json\") as f:\n",
    "    l1000_pertinfo = json.load(f)\n",
    "l1000_pertinfo = {x['pert_id']:x for x in l1000_pertinfo}\n",
    "l1000 = pd.DataFrame(l1000_pertinfo).T\n",
    "l1000.pubchem_cid = l1000.pubchem_cid.apply(lambda x: \"CID\" + str(x) if not pd.isnull(x) else x)\n",
    "l1000.inchi_key = l1000.inchi_key.apply(lambda x: str(x).replace(\"InChIKey=\",\"\") if not pd.isnull(x) else x)\n",
    "l1000[~l1000.inchi_key.isnull()].head(2)\n"
   ]
  },
  {
   "cell_type": "code",
   "execution_count": 6,
   "metadata": {
    "collapsed": false
   },
   "outputs": [
    {
     "name": "stdout",
     "output_type": "stream",
     "text": [
      "number of L1000 drug perturbations: 20413\n",
      "number of unique L1000 pubchem ids: 20139\n",
      "number of unique L1000 inchi keys: 20308\n",
      "number of unique L1000 inchi connectivities: 9170\n"
     ]
    }
   ],
   "source": [
    "l1000_drug = l1000.query(\"pert_type == 'trt_cp'\")\n",
    "l1000_pubchem = set(list(l1000_drug.pubchem_cid.dropna()))\n",
    "l1000_inchi_key = set(list(l1000_drug.inchi_key.dropna()))\n",
    "l1000_inchi0 = set(x.split('-',1)[0] for x in l1000_inchi_key)\n",
    "print(\"number of L1000 drug perturbations: {}\".format(len(l1000_drug)))\n",
    "print(\"number of unique L1000 pubchem ids: {}\".format(len(l1000_pubchem)))\n",
    "print(\"number of unique L1000 inchi keys: {}\".format(len(l1000_inchi_key)))\n",
    "print(\"number of unique L1000 inchi connectivities: {}\".format(len(l1000_inchi0)))"
   ]
  },
  {
   "cell_type": "code",
   "execution_count": 33,
   "metadata": {
    "collapsed": false
   },
   "outputs": [
    {
     "name": "stderr",
     "output_type": "stream",
     "text": [
      "/usr/local/lib/python3.5/dist-packages/ipykernel/__main__.py:1: SettingWithCopyWarning: \n",
      "A value is trying to be set on a copy of a slice from a DataFrame.\n",
      "Try using .loc[row_indexer,col_indexer] = value instead\n",
      "\n",
      "See the caveats in the documentation: http://pandas.pydata.org/pandas-docs/stable/indexing.html#indexing-view-versus-copy\n",
      "  if __name__ == '__main__':\n"
     ]
    }
   ],
   "source": [
    "l1000_drug['inchi0'] = l1000_drug['inchi_key'].map(lambda x:x.split('-')[0] if not isinstance(x, float) else '')"
   ]
  },
  {
   "cell_type": "markdown",
   "metadata": {},
   "source": [
    "## Compare overlap"
   ]
  },
  {
   "cell_type": "code",
   "execution_count": 34,
   "metadata": {
    "collapsed": false
   },
   "outputs": [
    {
     "name": "stdout",
     "output_type": "stream",
     "text": [
      "pubchem\n",
      "20139\n",
      "9034\n",
      "1030\n"
     ]
    }
   ],
   "source": [
    "print(\"pubchem\")\n",
    "print(len(l1000_pubchem))\n",
    "print(len(reframe_pubchem))\n",
    "print(len(l1000_pubchem & reframe_pubchem))"
   ]
  },
  {
   "cell_type": "code",
   "execution_count": 35,
   "metadata": {
    "collapsed": false
   },
   "outputs": [
    {
     "name": "stdout",
     "output_type": "stream",
     "text": [
      "inchi_key\n",
      "20308\n",
      "10068\n",
      "1309\n"
     ]
    }
   ],
   "source": [
    "print(\"inchi_key\")\n",
    "print(len(l1000_inchi_key))\n",
    "print(len(reframe_inchi_key))\n",
    "both_inchi = l1000_inchi_key & reframe_inchi_key\n",
    "print(len(both_inchi))"
   ]
  },
  {
   "cell_type": "code",
   "execution_count": 36,
   "metadata": {
    "collapsed": false
   },
   "outputs": [
    {
     "name": "stdout",
     "output_type": "stream",
     "text": [
      "inchi_key connectivity\n",
      "9170\n",
      "9684\n",
      "1568\n"
     ]
    }
   ],
   "source": [
    "# Compare the connectivity part of the inchi key only\n",
    "print(\"inchi_key connectivity\")\n",
    "print(len(l1000_inchi0))\n",
    "print(len(reframe_inchi0))\n",
    "both_inchi0 = l1000_inchi0 & reframe_inchi0\n",
    "print(len(both_inchi0))"
   ]
  },
  {
   "cell_type": "markdown",
   "metadata": {},
   "source": [
    "## What collections are the overlapping drugs coming from?\n",
    "http://support.lincscloud.org/hc/en-us/articles/204502059-Perturbagen-Collection-Definitions"
   ]
  },
  {
   "cell_type": "code",
   "execution_count": 47,
   "metadata": {
    "collapsed": false
   },
   "outputs": [
    {
     "data": {
      "text/plain": [
       "CBLI    12644\n",
       "BIOA     4184\n",
       "TBD      1304\n",
       "STRD     1161\n",
       "SOLN      405\n",
       "COMB      308\n",
       "COMA      120\n",
       "KINA      114\n",
       "CHRM      100\n",
       "NATP       38\n",
       "GPCR        6\n",
       "IONC        2\n",
       "NUCR        1\n",
       "PROT        1\n",
       "Name: pert_collection, dtype: int64"
      ]
     },
     "execution_count": 47,
     "metadata": {},
     "output_type": "execute_result"
    }
   ],
   "source": [
    "l1000_drug.pert_collection.value_counts()\n",
    "# There are a large number of l1000 compounds from CBLI: \n",
    "# CBLI - Chemical Biology Production Libraries: These are compounds from the diversity-oriented synthesis (DOS) \n",
    "# efforts of the Broad Chemical Biology Platform.  This collection contains large (> 1000 compounds) subsets\n",
    "# elaborated from matrices of related, stereochemically diverse scaffolds, poised for ready access to elucidation\n",
    "# of structure activity relationships."
   ]
  },
  {
   "cell_type": "code",
   "execution_count": 46,
   "metadata": {
    "collapsed": false
   },
   "outputs": [
    {
     "data": {
      "text/plain": [
       "BIOA    1545\n",
       "COMB       8\n",
       "STRD       5\n",
       "TBD        3\n",
       "NATP       2\n",
       "KINA       1\n",
       "Name: pert_collection, dtype: int64"
      ]
     },
     "execution_count": 46,
     "metadata": {},
     "output_type": "execute_result"
    }
   ],
   "source": [
    "l1000_drug[l1000_drug.inchi0.isin(both_inchi0)].drop_duplicates(\"inchi0\").pert_collection.value_counts()\n",
    "# Almost all of the overlapping drugs (between L1000 and reframe) are from the BIOA collection"
   ]
  },
  {
   "cell_type": "markdown",
   "metadata": {},
   "source": [
    "### Its weird L1000 has 20k drug perturbations but 10k unique connectivities, isn't it?"
   ]
  },
  {
   "cell_type": "code",
   "execution_count": 48,
   "metadata": {
    "collapsed": false
   },
   "outputs": [
    {
     "data": {
      "text/plain": [
       "CBLI    12106\n",
       "BIOA     1064\n",
       "TBD       759\n",
       "SOLN      388\n",
       "CHRM       68\n",
       "STRD       54\n",
       "COMB        7\n",
       "NATP        2\n",
       "GPCR        1\n",
       "Name: pert_collection, dtype: int64"
      ]
     },
     "execution_count": 48,
     "metadata": {},
     "output_type": "execute_result"
    }
   ],
   "source": [
    "inchi_count = {k:v for k,v in Counter(l1000_drug['inchi0'].dropna()).items() if v>1}\n",
    "l1000_drug[l1000_drug.inchi0.isin(inchi_count.keys())].pert_collection.value_counts()\n",
    "# yes, they come from CBLI"
   ]
  },
  {
   "cell_type": "markdown",
   "metadata": {},
   "source": [
    "### Of all assays in L1000 using compounds, on average, how many replicates are done per collection?"
   ]
  },
  {
   "cell_type": "code",
   "execution_count": 56,
   "metadata": {
    "collapsed": false
   },
   "outputs": [],
   "source": [
    "pertid_collection = l1000_drug.pert_collection.to_dict()\n",
    "pertid_inchi = l1000_drug.inchi_key.to_dict()\n",
    "pertid_inchi0 = l1000_drug.inchi0.to_dict()\n",
    "pertid_name = l1000_drug.pert_iname.to_dict()"
   ]
  },
  {
   "cell_type": "code",
   "execution_count": 57,
   "metadata": {
    "collapsed": false
   },
   "outputs": [
    {
     "name": "stderr",
     "output_type": "stream",
     "text": [
      "/usr/local/lib/python3.5/dist-packages/IPython/core/interactiveshell.py:2723: DtypeWarning: Columns (6) have mixed types. Specify dtype option on import or set low_memory=False.\n",
      "  interactivity=interactivity, compiler=compiler, result=result)\n"
     ]
    }
   ],
   "source": [
    "df = pd.read_csv(\"L1000_LINCScloud.csv\", index_col=0)\n",
    "df = df.query(\"pert_type == 'trt_cp'\")\n",
    "df['inchi'] = df.pert_id.map(lambda x: pertid_inchi.get(x,''))\n",
    "df['inchi0'] = df.pert_id.map(lambda x: pertid_inchi0.get(x,''))\n",
    "df['pert_collection'] = df.pert_id.map(lambda x: pertid_collection.get(x,''))\n",
    "df['pert_name'] = df.pert_id.map(lambda x: pertid_name.get(x,''))"
   ]
  },
  {
   "cell_type": "code",
   "execution_count": 149,
   "metadata": {
    "collapsed": false
   },
   "outputs": [
    {
     "data": {
      "text/plain": [
       "{'': 27.0,\n",
       " 'BIOA': 24.270076481835563,\n",
       " 'CBLI': 4.612385321100917,\n",
       " 'CHRM': 17.08,\n",
       " 'COMA': 20.541666666666668,\n",
       " 'COMB': 20.67207792207792,\n",
       " 'GPCR': 14.166666666666666,\n",
       " 'IONC': 13.0,\n",
       " 'KINA': 19.359649122807017,\n",
       " 'NATP': 18.68421052631579,\n",
       " 'NUCR': 13.0,\n",
       " 'PROT': 17.0,\n",
       " 'SOLN': 3.2790123456790123,\n",
       " 'STRD': 15.074935400516797,\n",
       " 'TBD': 6.106758832565284}"
      ]
     },
     "execution_count": 149,
     "metadata": {},
     "output_type": "execute_result"
    }
   ],
   "source": [
    "x={}\n",
    "for name, group in df.groupby(\"pert_collection\"):\n",
    "    x[name]=group.groupby(\"pert_id\").agg({'_id':len})['_id'].mean()\n",
    "x"
   ]
  },
  {
   "cell_type": "code",
   "execution_count": 167,
   "metadata": {
    "collapsed": false
   },
   "outputs": [
    {
     "data": {
      "text/html": [
       "<div>\n",
       "<table border=\"1\" class=\"dataframe\">\n",
       "  <thead>\n",
       "    <tr style=\"text-align: right;\">\n",
       "      <th></th>\n",
       "      <th>BIOA</th>\n",
       "      <th>CBLI</th>\n",
       "      <th>CHRM</th>\n",
       "      <th>COMA</th>\n",
       "      <th>COMB</th>\n",
       "      <th>GPCR</th>\n",
       "      <th>IONC</th>\n",
       "      <th>KINA</th>\n",
       "      <th>NATP</th>\n",
       "      <th>NUCR</th>\n",
       "      <th>PROT</th>\n",
       "      <th>SOLN</th>\n",
       "      <th>STRD</th>\n",
       "      <th>TBD</th>\n",
       "    </tr>\n",
       "  </thead>\n",
       "  <tbody>\n",
       "    <tr>\n",
       "      <th>drugs</th>\n",
       "      <td>0.205219</td>\n",
       "      <td>0.620169</td>\n",
       "      <td>0.004905</td>\n",
       "      <td>0.005886</td>\n",
       "      <td>0.015107</td>\n",
       "      <td>0.000294</td>\n",
       "      <td>0.000098</td>\n",
       "      <td>0.005592</td>\n",
       "      <td>0.001864</td>\n",
       "      <td>0.000049</td>\n",
       "      <td>0.000049</td>\n",
       "      <td>0.019865</td>\n",
       "      <td>0.056945</td>\n",
       "      <td>0.063959</td>\n",
       "    </tr>\n",
       "    <tr>\n",
       "      <th>assays</th>\n",
       "      <td>0.507111</td>\n",
       "      <td>0.291240</td>\n",
       "      <td>0.008530</td>\n",
       "      <td>0.012310</td>\n",
       "      <td>0.031796</td>\n",
       "      <td>0.000424</td>\n",
       "      <td>0.000130</td>\n",
       "      <td>0.011022</td>\n",
       "      <td>0.003546</td>\n",
       "      <td>0.000065</td>\n",
       "      <td>0.000085</td>\n",
       "      <td>0.006632</td>\n",
       "      <td>0.087403</td>\n",
       "      <td>0.039707</td>\n",
       "    </tr>\n",
       "  </tbody>\n",
       "</table>\n",
       "</div>"
      ],
      "text/plain": [
       "            BIOA      CBLI      CHRM      COMA      COMB      GPCR      IONC  \\\n",
       "drugs   0.205219  0.620169  0.004905  0.005886  0.015107  0.000294  0.000098   \n",
       "assays  0.507111  0.291240  0.008530  0.012310  0.031796  0.000424  0.000130   \n",
       "\n",
       "            KINA      NATP      NUCR      PROT      SOLN      STRD       TBD  \n",
       "drugs   0.005592  0.001864  0.000049  0.000049  0.019865  0.056945  0.063959  \n",
       "assays  0.011022  0.003546  0.000065  0.000085  0.006632  0.087403  0.039707  "
      ]
     },
     "execution_count": 167,
     "metadata": {},
     "output_type": "execute_result"
    }
   ],
   "source": [
    "# What is the composition of assays by collection, relative to number of compounds?\n",
    "x = pd.DataFrame([l1000_drug.pert_collection.value_counts(),df.pert_collection.value_counts()])\n",
    "x.index = ['drugs', 'assays']\n",
    "x=x[x.columns[1:]]\n",
    "x=x.div(x.sum(axis=1), axis=0)\n",
    "x"
   ]
  },
  {
   "cell_type": "code",
   "execution_count": 168,
   "metadata": {
    "collapsed": false
   },
   "outputs": [
    {
     "data": {
      "text/plain": [
       "<matplotlib.axes._subplots.AxesSubplot at 0x7f70f6c285f8>"
      ]
     },
     "execution_count": 168,
     "metadata": {},
     "output_type": "execute_result"
    },
    {
     "data": {
      "image/png": "[encoded data removed]",
      "text/plain": [
       "<matplotlib.figure.Figure at 0x7f71046c3198>"
      ]
     },
     "metadata": {},
     "output_type": "display_data"
    }
   ],
   "source": [
    "x.plot.bar(stacked=True)"
   ]
  },
  {
   "cell_type": "markdown",
   "metadata": {},
   "source": [
    "### What are the overlapping compounds?\n",
    "#### ordered by most used (# of reps)"
   ]
  },
  {
   "cell_type": "code",
   "execution_count": 70,
   "metadata": {
    "collapsed": false
   },
   "outputs": [
    {
     "data": {
      "text/plain": [
       "vorinostat    481\n",
       "sirolimus     413\n",
       "wortmannin    296\n",
       "estradiol     282\n",
       "tozasertib    262\n",
       "Name: pert_name, dtype: int64"
      ]
     },
     "execution_count": 70,
     "metadata": {},
     "output_type": "execute_result"
    }
   ],
   "source": [
    "df[df.inchi0.isin(both_inchi0)].pert_name.value_counts().sort_values(ascending=False).head()"
   ]
  },
  {
   "cell_type": "code",
   "execution_count": 75,
   "metadata": {
    "collapsed": true
   },
   "outputs": [],
   "source": [
    "#-------___________-------------"
   ]
  },
  {
   "cell_type": "code",
   "execution_count": 49,
   "metadata": {
    "collapsed": false
   },
   "outputs": [
    {
     "data": {
      "text/plain": [
       "20413"
      ]
     },
     "execution_count": 49,
     "metadata": {},
     "output_type": "execute_result"
    }
   ],
   "source": [
    "len(set(df.pert_id))"
   ]
  },
  {
   "cell_type": "code",
   "execution_count": null,
   "metadata": {
    "collapsed": false
   },
   "outputs": [],
   "source": []
  },
  {
   "cell_type": "code",
   "execution_count": null,
   "metadata": {
    "collapsed": false
   },
   "outputs": [],
   "source": [
    "df_both = df[df.inchi.isin(both_inchi)]"
   ]
  },
  {
   "cell_type": "code",
   "execution_count": null,
   "metadata": {
    "collapsed": false
   },
   "outputs": [],
   "source": [
    "\"JWUBBDSIWDLEOM\" in l1000_inchi0"
   ]
  },
  {
   "cell_type": "code",
   "execution_count": 119,
   "metadata": {
    "collapsed": false
   },
   "outputs": [
    {
     "name": "stderr",
     "output_type": "stream",
     "text": [
      "100%|██████████| 9170/9170 [1:23:15<00:00,  1.91it/s]\n"
     ]
    }
   ],
   "source": [
    "# To query biothings.drugs\n",
    "id_mapping = {}\n",
    "for inchi in tqdm(l1000_inchi0):\n",
    "    id_mapping[inchi] = {'pubchem':[],'drugbank':[]}\n",
    "    results = requests.get(\"http://su01:8000/v1/query?size=100&q=pubchem.inchi_key:{}*\".format(inchi)).json()\n",
    "    for result in results['hits']:\n",
    "        if 'pubchem' in result:\n",
    "            id_mapping[inchi]['pubchem'].append(result['pubchem']['cid'])\n",
    "        if 'drugbank' in result:\n",
    "            if 'accession_number' in result['drugbank']:\n",
    "                id_mapping[inchi]['drugbank'].extend(result['drugbank']['accession_number'])\n",
    "            if 'drugbank_id' in result['drugbank']:\n",
    "                id_mapping[inchi]['drugbank'].append(result['drugbank']['drugbank_id'])\n",
    "    time.sleep(0.5)"
   ]
  },
  {
   "cell_type": "code",
   "execution_count": 121,
   "metadata": {
    "collapsed": false
   },
   "outputs": [],
   "source": [
    "with open(\"id_mapping_inchi0.json\",'w') as f:\n",
    "    json.dump(id_mapping, f)"
   ]
  },
  {
   "cell_type": "code",
   "execution_count": 123,
   "metadata": {
    "collapsed": false
   },
   "outputs": [
    {
     "name": "stdout",
     "output_type": "stream",
     "text": [
      "False    8034\n",
      "True     1136\n",
      "Name: drugbank, dtype: int64\n",
      "True     9067\n",
      "False     103\n",
      "Name: pubchem, dtype: int64\n"
     ]
    }
   ],
   "source": [
    "dfid = pd.DataFrame(id_mapping).T\n",
    "print(dfid.drugbank.map(lambda x:len(x)!=0).value_counts())\n",
    "print(dfid.pubchem.map(lambda x:len(x)!=0).value_counts())"
   ]
  },
  {
   "cell_type": "code",
   "execution_count": null,
   "metadata": {
    "collapsed": true
   },
   "outputs": [],
   "source": [
    "client = MongoClient(\"wl-cmadmin.scripps.edu\", 27020)\n",
    "db = client.LINCS_L1000_CD.LINCScloud\n",
    "print(\"Total: {}\".format(db.find({'pert_type':'trt_cp'}).count()))\n",
    "keys = {'pert_id','pert_desc'}\n",
    "df_lincs = pd.DataFrame(list(db.find({'pert_type':'trt_cp'},{k:1 for k in keys})))\n",
    "pertids = set(list(df_lincs.pert_id))"
   ]
  },
  {
   "cell_type": "code",
   "execution_count": 79,
   "metadata": {
    "collapsed": false
   },
   "outputs": [
    {
     "data": {
      "text/plain": [
       "['CID5288674',\n",
       " 'CID32170',\n",
       " 'CID5281792',\n",
       " 'CID16654980',\n",
       " 'CID5394',\n",
       " 'CID1989',\n",
       " 'CID9824562',\n",
       " 'CID51173',\n",
       " 'CID379077',\n",
       " 'CID26098']"
      ]
     },
     "execution_count": 79,
     "metadata": {},
     "output_type": "execute_result"
    }
   ],
   "source": [
    "x=list(l1000_pubchem & reframe_pubchem)[:10]\n",
    "x"
   ]
  },
  {
   "cell_type": "code",
   "execution_count": 83,
   "metadata": {
    "collapsed": false
   },
   "outputs": [
    {
     "data": {
      "text/plain": [
       "'http://su01:8000/v1/query?size=100&q=pubchem.cid:CID5288674,CID32170,CID5281792,CID16654980,CID5394,CID1989,CID9824562,CID51173,CID379077,CID26098'"
      ]
     },
     "execution_count": 83,
     "metadata": {},
     "output_type": "execute_result"
    }
   ],
   "source": [
    "url"
   ]
  },
  {
   "cell_type": "code",
   "execution_count": null,
   "metadata": {
    "collapsed": true
   },
   "outputs": [],
   "source": []
  }
 ],
 "metadata": {
  "kernelspec": {
   "display_name": "Python 3",
   "language": "python",
   "name": "python3"
  },
  "language_info": {
   "codemirror_mode": {
    "name": "ipython",
    "version": 3
   },
   "file_extension": ".py",
   "mimetype": "text/x-python",
   "name": "python",
   "nbconvert_exporter": "python",
   "pygments_lexer": "ipython3",
   "version": "3.5.2"
  }
 },
 "nbformat": 4,
 "nbformat_minor": 0
}

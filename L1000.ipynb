{
 "cells": [
  {
   "cell_type": "markdown",
   "metadata": {},
   "source": [
    "## Exploring L1000 metadata\n",
    "### What kinds of replicates did L1000 do?"
   ]
  },
  {
   "cell_type": "code",
   "execution_count": 83,
   "metadata": {
    "collapsed": true
   },
   "outputs": [],
   "source": [
    "from tqdm import tqdm\n",
    "from pymongo import MongoClient\n",
    "from collections import Counter\n",
    "import pandas as pd\n",
    "import numpy as np\n",
    "import seaborn as sns\n",
    "import json\n",
    "%matplotlib inline\n",
    "import matplotlib.pyplot as plt\n",
    "plt.style.use('ggplot')"
   ]
  },
  {
   "cell_type": "code",
   "execution_count": 16,
   "metadata": {
    "collapsed": false
   },
   "outputs": [
    {
     "name": "stdout",
     "output_type": "stream",
     "text": [
      "Total: 389031\n"
     ]
    }
   ],
   "source": [
    "# This is the L1000 data, where each doc is an assay\n",
    "# Downloaded from http://download.lincscloud.org/ (which is currently down)\n",
    "# Maybe its on here: http://www.ncbi.nlm.nih.gov/geo/query/acc.cgi?acc=GSE70138 ?\n",
    "# who knows\n",
    "client = MongoClient(\"wl-cmadmin.scripps.edu\", 27020)\n",
    "db = client.LINCS_L1000_CD.LINCScloud\n",
    "print(\"Total: {}\".format(db.count()))"
   ]
  },
  {
   "cell_type": "code",
   "execution_count": 24,
   "metadata": {
    "collapsed": false
   },
   "outputs": [
    {
     "data": {
      "text/plain": [
       "{'_id': ObjectId('543d9200e4b0e6d1d5174eb4'),\n",
       " 'batch': 'CPC001_HA1E_24H',\n",
       " 'cell_id': 'HA1E',\n",
       " 'pert_desc': 'geldanamycin',\n",
       " 'pert_dose': '10.0',\n",
       " 'pert_dose_unit': 'um',\n",
       " 'pert_id': 'BRD-A19500257',\n",
       " 'pert_time': '24.0',\n",
       " 'pert_time_unit': 'h',\n",
       " 'pert_type': 'trt_poscon',\n",
       " 'replicateCount': 2,\n",
       " 'sig_id': 'CPC001_HA1E_24H:BRD-A19500257:10.0'}"
      ]
     },
     "execution_count": 24,
     "metadata": {},
     "output_type": "execute_result"
    }
   ],
   "source": [
    "# Just get the metadata keys\n",
    "keys = {'pert_dose_unit', '_id', 'pert_id', 'batch', 'pert_time_unit', 'pert_time', 'sig_id', 'replicateCount', 'cell_id', 'pert_desc', 'pert_dose', 'pert_type'}\n",
    "doc=db.find_one()\n",
    "{k:v for k,v in doc.items() if k in keys}"
   ]
  },
  {
   "cell_type": "code",
   "execution_count": 5,
   "metadata": {
    "collapsed": false
   },
   "outputs": [],
   "source": [
    "# Load in all the data (from mongo, slow)\n",
    "r = db.find({},{k:1 for k in keys})\n",
    "data = list(r)\n",
    "print(len(data))\n",
    "df = pd.DataFrame(data)\n",
    "df.to_csv(\"L1000_LINCScloud.csv\")"
   ]
  },
  {
   "cell_type": "code",
   "execution_count": 22,
   "metadata": {
    "collapsed": false
   },
   "outputs": [],
   "source": [
    "# or Load in all the data (from csv)\n",
    "df = pd.read_csv(\"L1000_LINCScloud.csv\", index_col=0, low_memory=False)"
   ]
  },
  {
   "cell_type": "code",
   "execution_count": 23,
   "metadata": {
    "collapsed": false
   },
   "outputs": [
    {
     "data": {
      "text/html": [
       "<div>\n",
       "<table border=\"1\" class=\"dataframe\">\n",
       "  <thead>\n",
       "    <tr style=\"text-align: right;\">\n",
       "      <th></th>\n",
       "      <th>_id</th>\n",
       "      <th>batch</th>\n",
       "      <th>cell_id</th>\n",
       "      <th>pert_desc</th>\n",
       "      <th>pert_dose</th>\n",
       "      <th>pert_dose_unit</th>\n",
       "      <th>pert_id</th>\n",
       "      <th>pert_time</th>\n",
       "      <th>pert_time_unit</th>\n",
       "      <th>pert_type</th>\n",
       "      <th>replicateCount</th>\n",
       "      <th>sig_id</th>\n",
       "    </tr>\n",
       "  </thead>\n",
       "  <tbody>\n",
       "    <tr>\n",
       "      <th>0</th>\n",
       "      <td>543d9200e4b0e6d1d5174eb4</td>\n",
       "      <td>CPC001_HA1E_24H</td>\n",
       "      <td>HA1E</td>\n",
       "      <td>geldanamycin</td>\n",
       "      <td>10.0</td>\n",
       "      <td>um</td>\n",
       "      <td>BRD-A19500257</td>\n",
       "      <td>24.0</td>\n",
       "      <td>h</td>\n",
       "      <td>trt_poscon</td>\n",
       "      <td>2</td>\n",
       "      <td>CPC001_HA1E_24H:BRD-A19500257:10.0</td>\n",
       "    </tr>\n",
       "    <tr>\n",
       "      <th>1</th>\n",
       "      <td>543d9201e4b0e6d1d5174eb5</td>\n",
       "      <td>CPC001_HA1E_24H</td>\n",
       "      <td>HA1E</td>\n",
       "      <td>cycloheximide-N-ethylethanoate</td>\n",
       "      <td>10.0</td>\n",
       "      <td>um</td>\n",
       "      <td>BRD-A82329351</td>\n",
       "      <td>24.0</td>\n",
       "      <td>h</td>\n",
       "      <td>trt_cp</td>\n",
       "      <td>3</td>\n",
       "      <td>CPC001_HA1E_24H:BRD-A82329351:10.0</td>\n",
       "    </tr>\n",
       "    <tr>\n",
       "      <th>2</th>\n",
       "      <td>543d9201e4b0e6d1d5174eb6</td>\n",
       "      <td>CPC001_HA1E_24H</td>\n",
       "      <td>HA1E</td>\n",
       "      <td>Tubocurarine chloride pentahydrate (+)</td>\n",
       "      <td>10.0</td>\n",
       "      <td>um</td>\n",
       "      <td>BRD-K02607075</td>\n",
       "      <td>24.0</td>\n",
       "      <td>h</td>\n",
       "      <td>trt_cp</td>\n",
       "      <td>3</td>\n",
       "      <td>CPC001_HA1E_24H:BRD-K02607075:10.0</td>\n",
       "    </tr>\n",
       "    <tr>\n",
       "      <th>3</th>\n",
       "      <td>543d9201e4b0e6d1d5174eb7</td>\n",
       "      <td>CPC001_HA1E_24H</td>\n",
       "      <td>HA1E</td>\n",
       "      <td>Scopolamin-N-oxide hydrobromide</td>\n",
       "      <td>10.0</td>\n",
       "      <td>um</td>\n",
       "      <td>BRD-A49906757</td>\n",
       "      <td>24.0</td>\n",
       "      <td>h</td>\n",
       "      <td>trt_cp</td>\n",
       "      <td>3</td>\n",
       "      <td>CPC001_HA1E_24H:BRD-A49906757:10.0</td>\n",
       "    </tr>\n",
       "    <tr>\n",
       "      <th>4</th>\n",
       "      <td>543d9201e4b0e6d1d5174eb8</td>\n",
       "      <td>CPC001_HA1E_24H</td>\n",
       "      <td>HA1E</td>\n",
       "      <td>PROPYL-beta-CARBOLINE-3-CARBOXYLATE</td>\n",
       "      <td>10.0</td>\n",
       "      <td>um</td>\n",
       "      <td>BRD-K85242180</td>\n",
       "      <td>24.0</td>\n",
       "      <td>h</td>\n",
       "      <td>trt_cp</td>\n",
       "      <td>3</td>\n",
       "      <td>CPC001_HA1E_24H:BRD-K85242180:10.0</td>\n",
       "    </tr>\n",
       "  </tbody>\n",
       "</table>\n",
       "</div>"
      ],
      "text/plain": [
       "                        _id            batch cell_id  \\\n",
       "0  543d9200e4b0e6d1d5174eb4  CPC001_HA1E_24H    HA1E   \n",
       "1  543d9201e4b0e6d1d5174eb5  CPC001_HA1E_24H    HA1E   \n",
       "2  543d9201e4b0e6d1d5174eb6  CPC001_HA1E_24H    HA1E   \n",
       "3  543d9201e4b0e6d1d5174eb7  CPC001_HA1E_24H    HA1E   \n",
       "4  543d9201e4b0e6d1d5174eb8  CPC001_HA1E_24H    HA1E   \n",
       "\n",
       "                                pert_desc  pert_dose pert_dose_unit  \\\n",
       "0                            geldanamycin       10.0             um   \n",
       "1          cycloheximide-N-ethylethanoate       10.0             um   \n",
       "2  Tubocurarine chloride pentahydrate (+)       10.0             um   \n",
       "3         Scopolamin-N-oxide hydrobromide       10.0             um   \n",
       "4     PROPYL-beta-CARBOLINE-3-CARBOXYLATE       10.0             um   \n",
       "\n",
       "         pert_id  pert_time pert_time_unit   pert_type  replicateCount  \\\n",
       "0  BRD-A19500257       24.0              h  trt_poscon               2   \n",
       "1  BRD-A82329351       24.0              h      trt_cp               3   \n",
       "2  BRD-K02607075       24.0              h      trt_cp               3   \n",
       "3  BRD-A49906757       24.0              h      trt_cp               3   \n",
       "4  BRD-K85242180       24.0              h      trt_cp               3   \n",
       "\n",
       "                               sig_id  \n",
       "0  CPC001_HA1E_24H:BRD-A19500257:10.0  \n",
       "1  CPC001_HA1E_24H:BRD-A82329351:10.0  \n",
       "2  CPC001_HA1E_24H:BRD-K02607075:10.0  \n",
       "3  CPC001_HA1E_24H:BRD-A49906757:10.0  \n",
       "4  CPC001_HA1E_24H:BRD-K85242180:10.0  "
      ]
     },
     "execution_count": 23,
     "metadata": {},
     "output_type": "execute_result"
    }
   ],
   "source": [
    "df.head()"
   ]
  },
  {
   "cell_type": "code",
   "execution_count": 39,
   "metadata": {
    "collapsed": false
   },
   "outputs": [
    {
     "data": {
      "text/html": [
       "<div>\n",
       "<table border=\"1\" class=\"dataframe\">\n",
       "  <thead>\n",
       "    <tr style=\"text-align: right;\">\n",
       "      <th></th>\n",
       "      <th>_id</th>\n",
       "      <th>cell_alias</th>\n",
       "      <th>cell_aliases</th>\n",
       "      <th>cell_histology</th>\n",
       "      <th>cell_id</th>\n",
       "      <th>cell_lineage</th>\n",
       "      <th>cell_source</th>\n",
       "      <th>cell_source_id</th>\n",
       "      <th>cell_type</th>\n",
       "      <th>gender</th>\n",
       "      <th>is_from_metastasis</th>\n",
       "      <th>lincs_status</th>\n",
       "      <th>metastatic_site</th>\n",
       "      <th>mutations</th>\n",
       "    </tr>\n",
       "  </thead>\n",
       "  <tbody>\n",
       "    <tr>\n",
       "      <th>1184</th>\n",
       "      <td>521bbc941c1c0625a8ca0f29</td>\n",
       "      <td>NaN</td>\n",
       "      <td>NaN</td>\n",
       "      <td>skin fibroblast</td>\n",
       "      <td>1184</td>\n",
       "      <td>NaN</td>\n",
       "      <td>ECACC</td>\n",
       "      <td>90011883</td>\n",
       "      <td>NaN</td>\n",
       "      <td>NaN</td>\n",
       "      <td>NaN</td>\n",
       "      <td>NaN</td>\n",
       "      <td>NaN</td>\n",
       "      <td>NaN</td>\n",
       "    </tr>\n",
       "    <tr>\n",
       "      <th>1205LU</th>\n",
       "      <td>521bbc941c1c0625a8ca0f33</td>\n",
       "      <td>NaN</td>\n",
       "      <td>NaN</td>\n",
       "      <td>melanoma</td>\n",
       "      <td>1205LU</td>\n",
       "      <td>NaN</td>\n",
       "      <td>ATCC</td>\n",
       "      <td>CRL-2812</td>\n",
       "      <td>NaN</td>\n",
       "      <td>NaN</td>\n",
       "      <td>NaN</td>\n",
       "      <td>NaN</td>\n",
       "      <td>NaN</td>\n",
       "      <td>NaN</td>\n",
       "    </tr>\n",
       "    <tr>\n",
       "      <th>1221</th>\n",
       "      <td>521bbc941c1c0625a8ca0f2a</td>\n",
       "      <td>NaN</td>\n",
       "      <td>NaN</td>\n",
       "      <td>skin fibroblast,thioguanine resistant</td>\n",
       "      <td>1221</td>\n",
       "      <td>NaN</td>\n",
       "      <td>ECACC</td>\n",
       "      <td>90011873</td>\n",
       "      <td>NaN</td>\n",
       "      <td>NaN</td>\n",
       "      <td>NaN</td>\n",
       "      <td>NaN</td>\n",
       "      <td>NaN</td>\n",
       "      <td>NaN</td>\n",
       "    </tr>\n",
       "    <tr>\n",
       "      <th>1301</th>\n",
       "      <td>521bbc941c1c0625a8ca0f2b</td>\n",
       "      <td>NaN</td>\n",
       "      <td>NaN</td>\n",
       "      <td>leukemia,ALL,T cell</td>\n",
       "      <td>1301</td>\n",
       "      <td>blood</td>\n",
       "      <td>ICLC</td>\n",
       "      <td>HTL01004</td>\n",
       "      <td>NaN</td>\n",
       "      <td>NaN</td>\n",
       "      <td>NaN</td>\n",
       "      <td>NaN</td>\n",
       "      <td>NaN</td>\n",
       "      <td>NaN</td>\n",
       "    </tr>\n",
       "    <tr>\n",
       "      <th>1306</th>\n",
       "      <td>521bbc941c1c0625a8ca0f2c</td>\n",
       "      <td>NaN</td>\n",
       "      <td>NaN</td>\n",
       "      <td>skin fibroblast</td>\n",
       "      <td>1306</td>\n",
       "      <td>NaN</td>\n",
       "      <td>ECACC</td>\n",
       "      <td>90011887</td>\n",
       "      <td>NaN</td>\n",
       "      <td>NaN</td>\n",
       "      <td>NaN</td>\n",
       "      <td>NaN</td>\n",
       "      <td>NaN</td>\n",
       "      <td>NaN</td>\n",
       "    </tr>\n",
       "  </tbody>\n",
       "</table>\n",
       "</div>"
      ],
      "text/plain": [
       "                             _id cell_alias cell_aliases  \\\n",
       "1184    521bbc941c1c0625a8ca0f29        NaN          NaN   \n",
       "1205LU  521bbc941c1c0625a8ca0f33        NaN          NaN   \n",
       "1221    521bbc941c1c0625a8ca0f2a        NaN          NaN   \n",
       "1301    521bbc941c1c0625a8ca0f2b        NaN          NaN   \n",
       "1306    521bbc941c1c0625a8ca0f2c        NaN          NaN   \n",
       "\n",
       "                               cell_histology cell_id cell_lineage  \\\n",
       "1184                          skin fibroblast    1184          NaN   \n",
       "1205LU                               melanoma  1205LU          NaN   \n",
       "1221    skin fibroblast,thioguanine resistant    1221          NaN   \n",
       "1301                      leukemia,ALL,T cell    1301        blood   \n",
       "1306                          skin fibroblast    1306          NaN   \n",
       "\n",
       "       cell_source cell_source_id cell_type gender is_from_metastasis  \\\n",
       "1184         ECACC       90011883       NaN    NaN                NaN   \n",
       "1205LU        ATCC       CRL-2812       NaN    NaN                NaN   \n",
       "1221         ECACC       90011873       NaN    NaN                NaN   \n",
       "1301          ICLC       HTL01004       NaN    NaN                NaN   \n",
       "1306         ECACC       90011887       NaN    NaN                NaN   \n",
       "\n",
       "       lincs_status metastatic_site mutations  \n",
       "1184            NaN             NaN       NaN  \n",
       "1205LU          NaN             NaN       NaN  \n",
       "1221            NaN             NaN       NaN  \n",
       "1301            NaN             NaN       NaN  \n",
       "1306            NaN             NaN       NaN  "
      ]
     },
     "execution_count": 39,
     "metadata": {},
     "output_type": "execute_result"
    }
   ],
   "source": [
    "cell_info = pd.read_csv(\"l1000_cellinfo.csv\", index_col=0)\n",
    "cell_info.head()"
   ]
  },
  {
   "cell_type": "code",
   "execution_count": 139,
   "metadata": {
    "collapsed": false
   },
   "outputs": [
    {
     "data": {
      "text/html": [
       "<div>\n",
       "<table border=\"1\" class=\"dataframe\">\n",
       "  <thead>\n",
       "    <tr style=\"text-align: right;\">\n",
       "      <th></th>\n",
       "      <th>_id</th>\n",
       "      <th>alt_name</th>\n",
       "      <th>canonical_smiles</th>\n",
       "      <th>cell_id</th>\n",
       "      <th>clone_name</th>\n",
       "      <th>in_summly</th>\n",
       "      <th>inchi_key</th>\n",
       "      <th>inchi_string</th>\n",
       "      <th>logp</th>\n",
       "      <th>mls_id</th>\n",
       "      <th>...</th>\n",
       "      <th>pert_vendor</th>\n",
       "      <th>pubchem_cid</th>\n",
       "      <th>seed_seq6</th>\n",
       "      <th>seed_seq7</th>\n",
       "      <th>sig_id</th>\n",
       "      <th>sig_id_gold</th>\n",
       "      <th>structure_url</th>\n",
       "      <th>target_region</th>\n",
       "      <th>target_seq</th>\n",
       "      <th>vector_id</th>\n",
       "    </tr>\n",
       "  </thead>\n",
       "  <tbody>\n",
       "    <tr>\n",
       "      <th>56582</th>\n",
       "      <td>51cccb0ada08267b0f9dc594</td>\n",
       "      <td>NaN</td>\n",
       "      <td>NaN</td>\n",
       "      <td>['HEK293T']</td>\n",
       "      <td>NaN</td>\n",
       "      <td>NaN</td>\n",
       "      <td>NaN</td>\n",
       "      <td>NaN</td>\n",
       "      <td>NaN</td>\n",
       "      <td>NaN</td>\n",
       "      <td>...</td>\n",
       "      <td>NaN</td>\n",
       "      <td>NaN</td>\n",
       "      <td>NaN</td>\n",
       "      <td>NaN</td>\n",
       "      <td>['HSF037_HEK293T_48H:56582:150', 'HSF038_HEK29...</td>\n",
       "      <td>['HSF037_HEK293T_48H:56582:150', 'HSF045_HEK29...</td>\n",
       "      <td>NaN</td>\n",
       "      <td>NaN</td>\n",
       "      <td>NaN</td>\n",
       "      <td>NaN</td>\n",
       "    </tr>\n",
       "    <tr>\n",
       "      <th>5981</th>\n",
       "      <td>51cccb0ada08267b0f9dc595</td>\n",
       "      <td>NaN</td>\n",
       "      <td>NaN</td>\n",
       "      <td>['HEK293T']</td>\n",
       "      <td>NaN</td>\n",
       "      <td>NaN</td>\n",
       "      <td>NaN</td>\n",
       "      <td>NaN</td>\n",
       "      <td>NaN</td>\n",
       "      <td>NaN</td>\n",
       "      <td>...</td>\n",
       "      <td>NaN</td>\n",
       "      <td>NaN</td>\n",
       "      <td>NaN</td>\n",
       "      <td>NaN</td>\n",
       "      <td>['HSF033_HEK293T_48H:5981:150', 'HSF034_HEK293...</td>\n",
       "      <td>['HSF033_HEK293T_48H:5981:150', 'HSF034_HEK293...</td>\n",
       "      <td>NaN</td>\n",
       "      <td>NaN</td>\n",
       "      <td>NaN</td>\n",
       "      <td>NaN</td>\n",
       "    </tr>\n",
       "    <tr>\n",
       "      <th>7150</th>\n",
       "      <td>51cccb0ada08267b0f9dc596</td>\n",
       "      <td>NaN</td>\n",
       "      <td>NaN</td>\n",
       "      <td>['HEK293T']</td>\n",
       "      <td>NaN</td>\n",
       "      <td>NaN</td>\n",
       "      <td>NaN</td>\n",
       "      <td>NaN</td>\n",
       "      <td>NaN</td>\n",
       "      <td>NaN</td>\n",
       "      <td>...</td>\n",
       "      <td>NaN</td>\n",
       "      <td>NaN</td>\n",
       "      <td>NaN</td>\n",
       "      <td>NaN</td>\n",
       "      <td>['HSF033_HEK293T_48H:7150:150', 'HSF034_HEK293...</td>\n",
       "      <td>['HSF041_HEK293T_48H:7150:150', 'HSF042_HEK293...</td>\n",
       "      <td>NaN</td>\n",
       "      <td>NaN</td>\n",
       "      <td>NaN</td>\n",
       "      <td>NaN</td>\n",
       "    </tr>\n",
       "    <tr>\n",
       "      <th>ABL1_G2A</th>\n",
       "      <td>51cccb0ada08267b0f9dc597</td>\n",
       "      <td>NaN</td>\n",
       "      <td>NaN</td>\n",
       "      <td>['HEK293T']</td>\n",
       "      <td>NaN</td>\n",
       "      <td>NaN</td>\n",
       "      <td>NaN</td>\n",
       "      <td>NaN</td>\n",
       "      <td>NaN</td>\n",
       "      <td>NaN</td>\n",
       "      <td>...</td>\n",
       "      <td>NaN</td>\n",
       "      <td>NaN</td>\n",
       "      <td>NaN</td>\n",
       "      <td>NaN</td>\n",
       "      <td>['HSF033_HEK293T_48H:ABL1_G2A:150', 'HSF034_HE...</td>\n",
       "      <td>['HSF034_HEK293T_48H:ABL1_G2A:150', 'HSF041_HE...</td>\n",
       "      <td>NaN</td>\n",
       "      <td>NaN</td>\n",
       "      <td>NaN</td>\n",
       "      <td>NaN</td>\n",
       "    </tr>\n",
       "    <tr>\n",
       "      <th>ABL1_T315I</th>\n",
       "      <td>51cccb0ada08267b0f9dc598</td>\n",
       "      <td>NaN</td>\n",
       "      <td>NaN</td>\n",
       "      <td>['HEK293T']</td>\n",
       "      <td>NaN</td>\n",
       "      <td>NaN</td>\n",
       "      <td>NaN</td>\n",
       "      <td>NaN</td>\n",
       "      <td>NaN</td>\n",
       "      <td>NaN</td>\n",
       "      <td>...</td>\n",
       "      <td>NaN</td>\n",
       "      <td>NaN</td>\n",
       "      <td>NaN</td>\n",
       "      <td>NaN</td>\n",
       "      <td>['HSF033_HEK293T_48H:ABL1_T315I:150', 'HSF034_...</td>\n",
       "      <td>['HSF033_HEK293T_48H:ABL1_T315I:150', 'HSF035_...</td>\n",
       "      <td>NaN</td>\n",
       "      <td>NaN</td>\n",
       "      <td>NaN</td>\n",
       "      <td>NaN</td>\n",
       "    </tr>\n",
       "  </tbody>\n",
       "</table>\n",
       "<p>5 rows × 34 columns</p>\n",
       "</div>"
      ],
      "text/plain": [
       "                                 _id alt_name canonical_smiles      cell_id  \\\n",
       "56582       51cccb0ada08267b0f9dc594      NaN              NaN  ['HEK293T']   \n",
       "5981        51cccb0ada08267b0f9dc595      NaN              NaN  ['HEK293T']   \n",
       "7150        51cccb0ada08267b0f9dc596      NaN              NaN  ['HEK293T']   \n",
       "ABL1_G2A    51cccb0ada08267b0f9dc597      NaN              NaN  ['HEK293T']   \n",
       "ABL1_T315I  51cccb0ada08267b0f9dc598      NaN              NaN  ['HEK293T']   \n",
       "\n",
       "           clone_name in_summly inchi_key inchi_string  logp mls_id    ...     \\\n",
       "56582             NaN       NaN       NaN          NaN   NaN    NaN    ...      \n",
       "5981              NaN       NaN       NaN          NaN   NaN    NaN    ...      \n",
       "7150              NaN       NaN       NaN          NaN   NaN    NaN    ...      \n",
       "ABL1_G2A          NaN       NaN       NaN          NaN   NaN    NaN    ...      \n",
       "ABL1_T315I        NaN       NaN       NaN          NaN   NaN    NaN    ...      \n",
       "\n",
       "           pert_vendor  pubchem_cid seed_seq6  seed_seq7  \\\n",
       "56582              NaN          NaN       NaN        NaN   \n",
       "5981               NaN          NaN       NaN        NaN   \n",
       "7150               NaN          NaN       NaN        NaN   \n",
       "ABL1_G2A           NaN          NaN       NaN        NaN   \n",
       "ABL1_T315I         NaN          NaN       NaN        NaN   \n",
       "\n",
       "                                                       sig_id  \\\n",
       "56582       ['HSF037_HEK293T_48H:56582:150', 'HSF038_HEK29...   \n",
       "5981        ['HSF033_HEK293T_48H:5981:150', 'HSF034_HEK293...   \n",
       "7150        ['HSF033_HEK293T_48H:7150:150', 'HSF034_HEK293...   \n",
       "ABL1_G2A    ['HSF033_HEK293T_48H:ABL1_G2A:150', 'HSF034_HE...   \n",
       "ABL1_T315I  ['HSF033_HEK293T_48H:ABL1_T315I:150', 'HSF034_...   \n",
       "\n",
       "                                                  sig_id_gold structure_url  \\\n",
       "56582       ['HSF037_HEK293T_48H:56582:150', 'HSF045_HEK29...           NaN   \n",
       "5981        ['HSF033_HEK293T_48H:5981:150', 'HSF034_HEK293...           NaN   \n",
       "7150        ['HSF041_HEK293T_48H:7150:150', 'HSF042_HEK293...           NaN   \n",
       "ABL1_G2A    ['HSF034_HEK293T_48H:ABL1_G2A:150', 'HSF041_HE...           NaN   \n",
       "ABL1_T315I  ['HSF033_HEK293T_48H:ABL1_T315I:150', 'HSF035_...           NaN   \n",
       "\n",
       "           target_region target_seq vector_id  \n",
       "56582                NaN        NaN       NaN  \n",
       "5981                 NaN        NaN       NaN  \n",
       "7150                 NaN        NaN       NaN  \n",
       "ABL1_G2A             NaN        NaN       NaN  \n",
       "ABL1_T315I           NaN        NaN       NaN  \n",
       "\n",
       "[5 rows x 34 columns]"
      ]
     },
     "execution_count": 139,
     "metadata": {},
     "output_type": "execute_result"
    }
   ],
   "source": [
    "pert_info = pd.read_csv(\"l1000_pertinfo.csv\", index_col=0, low_memory=False)\n",
    "pert_info.head()"
   ]
  },
  {
   "cell_type": "code",
   "execution_count": null,
   "metadata": {
    "collapsed": true
   },
   "outputs": [],
   "source": [
    "### How many replicates per assay?"
   ]
  },
  {
   "cell_type": "code",
   "execution_count": 99,
   "metadata": {
    "collapsed": false
   },
   "outputs": [
    {
     "data": {
      "text/plain": [
       "3     194936\n",
       "2      94643\n",
       "4      48491\n",
       "5      29359\n",
       "6       9825\n",
       "1       5205\n",
       "9       2396\n",
       "8       1968\n",
       "7        811\n",
       "12       601\n",
       "Name: replicateCount, dtype: int64"
      ]
     },
     "execution_count": 99,
     "metadata": {},
     "output_type": "execute_result"
    }
   ],
   "source": [
    "df.replicateCount.value_counts()[:10]"
   ]
  },
  {
   "cell_type": "markdown",
   "metadata": {
    "collapsed": true
   },
   "source": [
    "### What are the most commonly used cell lines?"
   ]
  },
  {
   "cell_type": "code",
   "execution_count": 75,
   "metadata": {
    "collapsed": false,
    "scrolled": true
   },
   "outputs": [
    {
     "data": {
      "text/plain": [
       "VCAP      0.147078\n",
       "MCF7      0.134624\n",
       "PC3       0.122450\n",
       "A549      0.096591\n",
       "A375      0.086512\n",
       "HT29      0.078269\n",
       "HA1E      0.067254\n",
       "HCC515    0.060957\n",
       "HEPG2     0.054063\n",
       "NPC       0.019726\n",
       "ASC       0.014978\n",
       "Name: cell_id, dtype: float64"
      ]
     },
     "execution_count": 75,
     "metadata": {},
     "output_type": "execute_result"
    }
   ],
   "source": [
    "# cell lines and number of assays performed\n",
    "cell_counts = df['cell_id'].value_counts()\n",
    "cell_counts = cell_counts/cell_counts.sum() #normalize\n",
    "common_cells = cell_counts[cell_counts>0.01]\n",
    "common_cells"
   ]
  },
  {
   "cell_type": "code",
   "execution_count": 76,
   "metadata": {
    "collapsed": false
   },
   "outputs": [
    {
     "data": {
      "text/html": [
       "<div>\n",
       "<table border=\"1\" class=\"dataframe\">\n",
       "  <thead>\n",
       "    <tr style=\"text-align: right;\">\n",
       "      <th></th>\n",
       "      <th>cell_aliases</th>\n",
       "      <th>cell_histology</th>\n",
       "      <th>cell_id</th>\n",
       "      <th>cell_lineage</th>\n",
       "      <th>cell_source</th>\n",
       "      <th>cell_source_id</th>\n",
       "      <th>cell_type</th>\n",
       "      <th>gender</th>\n",
       "      <th>is_from_metastasis</th>\n",
       "      <th>lincs_status</th>\n",
       "      <th>metastatic_site</th>\n",
       "    </tr>\n",
       "  </thead>\n",
       "  <tbody>\n",
       "    <tr>\n",
       "      <th>VCAP</th>\n",
       "      <td>NaN</td>\n",
       "      <td>carcinoma</td>\n",
       "      <td>VCAP</td>\n",
       "      <td>prostate</td>\n",
       "      <td>ATCC</td>\n",
       "      <td>CRL-2876</td>\n",
       "      <td>cancer</td>\n",
       "      <td>M</td>\n",
       "      <td>Y</td>\n",
       "      <td>['core_cline', 'DIVR']</td>\n",
       "      <td>vertebra</td>\n",
       "    </tr>\n",
       "    <tr>\n",
       "      <th>MCF7</th>\n",
       "      <td>NaN</td>\n",
       "      <td>carcinoma</td>\n",
       "      <td>MCF7</td>\n",
       "      <td>breast</td>\n",
       "      <td>ATCC</td>\n",
       "      <td>HTB-22</td>\n",
       "      <td>cancer</td>\n",
       "      <td>F</td>\n",
       "      <td>Y</td>\n",
       "      <td>['core_cline', 'DIVR']</td>\n",
       "      <td>pleural_effusion</td>\n",
       "    </tr>\n",
       "    <tr>\n",
       "      <th>PC3</th>\n",
       "      <td>PC-3</td>\n",
       "      <td>carcinoma</td>\n",
       "      <td>PC3</td>\n",
       "      <td>prostate</td>\n",
       "      <td>ATCC</td>\n",
       "      <td>CRL-1435</td>\n",
       "      <td>cancer</td>\n",
       "      <td>M</td>\n",
       "      <td>Y</td>\n",
       "      <td>['core_cline', 'DIVR']</td>\n",
       "      <td>bone</td>\n",
       "    </tr>\n",
       "    <tr>\n",
       "      <th>A549</th>\n",
       "      <td>NaN</td>\n",
       "      <td>carcinoma,non-small cell</td>\n",
       "      <td>A549</td>\n",
       "      <td>lung</td>\n",
       "      <td>ATCC</td>\n",
       "      <td>CCL-185</td>\n",
       "      <td>cancer</td>\n",
       "      <td>M</td>\n",
       "      <td>NaN</td>\n",
       "      <td>['core_cline', 'DIVR']</td>\n",
       "      <td>NaN</td>\n",
       "    </tr>\n",
       "    <tr>\n",
       "      <th>A375</th>\n",
       "      <td>A-375</td>\n",
       "      <td>melanoma</td>\n",
       "      <td>A375</td>\n",
       "      <td>skin</td>\n",
       "      <td>ATCC</td>\n",
       "      <td>CRL-1619</td>\n",
       "      <td>cancer</td>\n",
       "      <td>F</td>\n",
       "      <td>NaN</td>\n",
       "      <td>['core_cline', 'DIVR']</td>\n",
       "      <td>NaN</td>\n",
       "    </tr>\n",
       "    <tr>\n",
       "      <th>HT29</th>\n",
       "      <td>HT-29</td>\n",
       "      <td>adenocarcinoma,colorectal</td>\n",
       "      <td>HT29</td>\n",
       "      <td>large intestine,colon</td>\n",
       "      <td>ATCC</td>\n",
       "      <td>HTB-38</td>\n",
       "      <td>cancer</td>\n",
       "      <td>F</td>\n",
       "      <td>NaN</td>\n",
       "      <td>['core_cline', 'DIVR']</td>\n",
       "      <td>NaN</td>\n",
       "    </tr>\n",
       "    <tr>\n",
       "      <th>HA1E</th>\n",
       "      <td>NaN</td>\n",
       "      <td>normal kidney</td>\n",
       "      <td>HA1E</td>\n",
       "      <td>large intestine,rectum</td>\n",
       "      <td>Bill Hahn, Broad Institute</td>\n",
       "      <td>NaN</td>\n",
       "      <td>immortalized normal</td>\n",
       "      <td>NaN</td>\n",
       "      <td>NaN</td>\n",
       "      <td>['core_cline', 'DIVR']</td>\n",
       "      <td>NaN</td>\n",
       "    </tr>\n",
       "    <tr>\n",
       "      <th>HCC515</th>\n",
       "      <td>NaN</td>\n",
       "      <td>carcinoma</td>\n",
       "      <td>HCC515</td>\n",
       "      <td>lung</td>\n",
       "      <td>Broad Institute</td>\n",
       "      <td>NaN</td>\n",
       "      <td>cancer</td>\n",
       "      <td>NaN</td>\n",
       "      <td>NaN</td>\n",
       "      <td>['core_cline', 'DIVR']</td>\n",
       "      <td>NaN</td>\n",
       "    </tr>\n",
       "    <tr>\n",
       "      <th>HEPG2</th>\n",
       "      <td>NaN</td>\n",
       "      <td>carcinoma,hepatocellular</td>\n",
       "      <td>HEPG2</td>\n",
       "      <td>liver</td>\n",
       "      <td>ATCC</td>\n",
       "      <td>HB-8065</td>\n",
       "      <td>cancer</td>\n",
       "      <td>M</td>\n",
       "      <td>NaN</td>\n",
       "      <td>['core_cline', 'DIVR']</td>\n",
       "      <td>NaN</td>\n",
       "    </tr>\n",
       "    <tr>\n",
       "      <th>NPC</th>\n",
       "      <td>NPC-8330-8 NEURAL PROGENITORS</td>\n",
       "      <td>normal stem fibroblast-derived iPScs</td>\n",
       "      <td>NPC</td>\n",
       "      <td>CNS,iPS</td>\n",
       "      <td>Stephen Haggarty, MGH</td>\n",
       "      <td>NaN</td>\n",
       "      <td>primary</td>\n",
       "      <td>NaN</td>\n",
       "      <td>NaN</td>\n",
       "      <td>['core_pline']</td>\n",
       "      <td>NaN</td>\n",
       "    </tr>\n",
       "    <tr>\n",
       "      <th>ASC</th>\n",
       "      <td>ADIPOCYTES</td>\n",
       "      <td>normal primary adipocyte stem cells</td>\n",
       "      <td>ASC</td>\n",
       "      <td>adipose</td>\n",
       "      <td>Jeffery Gimble, PBRC</td>\n",
       "      <td>NaN</td>\n",
       "      <td>primary</td>\n",
       "      <td>NaN</td>\n",
       "      <td>NaN</td>\n",
       "      <td>['core_pline']</td>\n",
       "      <td>NaN</td>\n",
       "    </tr>\n",
       "  </tbody>\n",
       "</table>\n",
       "</div>"
      ],
      "text/plain": [
       "                         cell_aliases                        cell_histology  \\\n",
       "VCAP                              NaN                             carcinoma   \n",
       "MCF7                              NaN                             carcinoma   \n",
       "PC3                              PC-3                             carcinoma   \n",
       "A549                              NaN              carcinoma,non-small cell   \n",
       "A375                            A-375                              melanoma   \n",
       "HT29                            HT-29             adenocarcinoma,colorectal   \n",
       "HA1E                              NaN                         normal kidney   \n",
       "HCC515                            NaN                             carcinoma   \n",
       "HEPG2                             NaN              carcinoma,hepatocellular   \n",
       "NPC     NPC-8330-8 NEURAL PROGENITORS  normal stem fibroblast-derived iPScs   \n",
       "ASC                        ADIPOCYTES   normal primary adipocyte stem cells   \n",
       "\n",
       "       cell_id            cell_lineage                 cell_source  \\\n",
       "VCAP      VCAP                prostate                        ATCC   \n",
       "MCF7      MCF7                  breast                        ATCC   \n",
       "PC3        PC3                prostate                        ATCC   \n",
       "A549      A549                    lung                        ATCC   \n",
       "A375      A375                    skin                        ATCC   \n",
       "HT29      HT29   large intestine,colon                        ATCC   \n",
       "HA1E      HA1E  large intestine,rectum  Bill Hahn, Broad Institute   \n",
       "HCC515  HCC515                    lung             Broad Institute   \n",
       "HEPG2    HEPG2                   liver                        ATCC   \n",
       "NPC        NPC                 CNS,iPS       Stephen Haggarty, MGH   \n",
       "ASC        ASC                 adipose        Jeffery Gimble, PBRC   \n",
       "\n",
       "       cell_source_id            cell_type gender is_from_metastasis  \\\n",
       "VCAP         CRL-2876               cancer      M                  Y   \n",
       "MCF7           HTB-22               cancer      F                  Y   \n",
       "PC3          CRL-1435               cancer      M                  Y   \n",
       "A549          CCL-185               cancer      M                NaN   \n",
       "A375         CRL-1619               cancer      F                NaN   \n",
       "HT29           HTB-38               cancer      F                NaN   \n",
       "HA1E              NaN  immortalized normal    NaN                NaN   \n",
       "HCC515            NaN               cancer    NaN                NaN   \n",
       "HEPG2         HB-8065               cancer      M                NaN   \n",
       "NPC               NaN              primary    NaN                NaN   \n",
       "ASC               NaN              primary    NaN                NaN   \n",
       "\n",
       "                  lincs_status   metastatic_site  \n",
       "VCAP    ['core_cline', 'DIVR']          vertebra  \n",
       "MCF7    ['core_cline', 'DIVR']  pleural_effusion  \n",
       "PC3     ['core_cline', 'DIVR']              bone  \n",
       "A549    ['core_cline', 'DIVR']               NaN  \n",
       "A375    ['core_cline', 'DIVR']               NaN  \n",
       "HT29    ['core_cline', 'DIVR']               NaN  \n",
       "HA1E    ['core_cline', 'DIVR']               NaN  \n",
       "HCC515  ['core_cline', 'DIVR']               NaN  \n",
       "HEPG2   ['core_cline', 'DIVR']               NaN  \n",
       "NPC             ['core_pline']               NaN  \n",
       "ASC             ['core_pline']               NaN  "
      ]
     },
     "execution_count": 76,
     "metadata": {},
     "output_type": "execute_result"
    }
   ],
   "source": [
    "# metadata about the most commonly used cell lines\n",
    "cell_info.loc[common_cells.index, cell_info.columns[2:13]]"
   ]
  },
  {
   "cell_type": "markdown",
   "metadata": {},
   "source": [
    "## How many cell lines per perturbation, where the perturbation is a drug/compound?"
   ]
  },
  {
   "cell_type": "code",
   "execution_count": 90,
   "metadata": {
    "collapsed": false
   },
   "outputs": [
    {
     "data": {
      "image/png": "[encoded data removed]",
      "text/plain": [
       "<matplotlib.figure.Figure at 0x7fbcda5e9470>"
      ]
     },
     "metadata": {},
     "output_type": "display_data"
    },
    {
     "data": {
      "text/plain": [
       "<matplotlib.text.Text at 0x7fbcdaa780b8>"
      ]
     },
     "execution_count": 90,
     "metadata": {},
     "output_type": "execute_result"
    },
    {
     "data": {
      "image/png": "[encoded data removed]",
      "text/plain": [
       "<matplotlib.figure.Figure at 0x7fbcda49c668>"
      ]
     },
     "metadata": {},
     "output_type": "display_data"
    }
   ],
   "source": [
    "df_cp = df.query(\"pert_type == 'trt_cp'\")\n",
    "num_lines_per_pert = df_cp.groupby(\"pert_id\").agg({'cell_id': lambda x: len(set(x))})['cell_id']\n",
    "sns.distplot(num_lines_per_pert)\n",
    "plt.xlabel(\"# of cell lines\")\n",
    "sns.plt.show()\n",
    "num_lines_per_pert.hist(bins = 50, cumulative=True, normed=True)\n",
    "plt.xlabel(\"# of cell lines\")\n",
    "plt.title(\"cumulative histogram\")"
   ]
  },
  {
   "cell_type": "markdown",
   "metadata": {},
   "source": [
    "## What kind of perturbations?\n",
    "http://support.lincscloud.org/hc/en-us/articles/202216073"
   ]
  },
  {
   "cell_type": "markdown",
   "metadata": {},
   "source": [
    "Chemical compound\ttrt_cp\n",
    "Gene knockdown\ttrt_sh\n",
    "Gene over expression\ttrt_oe"
   ]
  },
  {
   "cell_type": "code",
   "execution_count": 96,
   "metadata": {
    "collapsed": false
   },
   "outputs": [
    {
     "data": {
      "text/plain": [
       "trt_cp        0.517912\n",
       "trt_sh        0.398408\n",
       "trt_oe        0.057731\n",
       "trt_lig       0.014084\n",
       "trt_poscon    0.009359\n",
       "trt_oe.mut    0.002499\n",
       "ctl_untrt     0.000008\n",
       "Name: pert_type, dtype: float64"
      ]
     },
     "execution_count": 96,
     "metadata": {},
     "output_type": "execute_result"
    }
   ],
   "source": [
    "pert_types = df.pert_type.value_counts()\n",
    "pert_types/pert_types.sum()"
   ]
  },
  {
   "cell_type": "markdown",
   "metadata": {},
   "source": [
    "### Overexpression"
   ]
  },
  {
   "cell_type": "code",
   "execution_count": 101,
   "metadata": {
    "collapsed": false
   },
   "outputs": [
    {
     "data": {
      "text/plain": [
       "{'A375': 2281,\n",
       " 'A549': 1798,\n",
       " 'HA1E': 2159,\n",
       " 'HCC515': 2160,\n",
       " 'HEK293T': 1186,\n",
       " 'HEPG2': 2159,\n",
       " 'HT29': 2160,\n",
       " 'MCF7': 2160,\n",
       " 'PC3': 2281,\n",
       " 'VCAP': 1800}"
      ]
     },
     "execution_count": 101,
     "metadata": {},
     "output_type": "execute_result"
    }
   ],
   "source": [
    "## Number of genes targeted for overexpression for each cell line\n",
    "{cell_id:len(set(thisdf.pert_desc)) for cell_id, thisdf in df.query(\"pert_type == 'trt_oe'\").groupby(\"cell_id\")}"
   ]
  },
  {
   "cell_type": "markdown",
   "metadata": {},
   "source": [
    "### Gene knockdown"
   ]
  },
  {
   "cell_type": "code",
   "execution_count": 104,
   "metadata": {
    "collapsed": false
   },
   "outputs": [
    {
     "data": {
      "text/plain": [
       "PC3       21190\n",
       "VCAP      20804\n",
       "MCF7      19669\n",
       "A375      14800\n",
       "HA1E      14305\n",
       "A549      13949\n",
       "HT29      13575\n",
       "HCC515    12966\n",
       "HEPG2     12868\n",
       "ASC        3318\n",
       "Name: cell_id, dtype: int64"
      ]
     },
     "execution_count": 104,
     "metadata": {},
     "output_type": "execute_result"
    }
   ],
   "source": [
    "# cell lines and number of assays for gene knockdown assays\n",
    "df.query(\"pert_type == 'trt_sh'\").cell_id.value_counts()[:10]"
   ]
  },
  {
   "cell_type": "code",
   "execution_count": 123,
   "metadata": {
    "collapsed": false
   },
   "outputs": [
    {
     "data": {
      "text/html": [
       "<div>\n",
       "<table border=\"1\" class=\"dataframe\">\n",
       "  <thead>\n",
       "    <tr style=\"text-align: right;\">\n",
       "      <th></th>\n",
       "      <th>pert_desc</th>\n",
       "      <th>cell_id</th>\n",
       "    </tr>\n",
       "    <tr>\n",
       "      <th>cell_id</th>\n",
       "      <th></th>\n",
       "      <th></th>\n",
       "    </tr>\n",
       "  </thead>\n",
       "  <tbody>\n",
       "    <tr>\n",
       "      <th>VCAP</th>\n",
       "      <td>4136</td>\n",
       "      <td>20804</td>\n",
       "    </tr>\n",
       "    <tr>\n",
       "      <th>PC3</th>\n",
       "      <td>3983</td>\n",
       "      <td>21190</td>\n",
       "    </tr>\n",
       "    <tr>\n",
       "      <th>A375</th>\n",
       "      <td>3827</td>\n",
       "      <td>14800</td>\n",
       "    </tr>\n",
       "    <tr>\n",
       "      <th>HA1E</th>\n",
       "      <td>3802</td>\n",
       "      <td>14305</td>\n",
       "    </tr>\n",
       "    <tr>\n",
       "      <th>A549</th>\n",
       "      <td>3725</td>\n",
       "      <td>13949</td>\n",
       "    </tr>\n",
       "    <tr>\n",
       "      <th>MCF7</th>\n",
       "      <td>3689</td>\n",
       "      <td>19669</td>\n",
       "    </tr>\n",
       "    <tr>\n",
       "      <th>HT29</th>\n",
       "      <td>3666</td>\n",
       "      <td>13575</td>\n",
       "    </tr>\n",
       "    <tr>\n",
       "      <th>HEPG2</th>\n",
       "      <td>3563</td>\n",
       "      <td>12868</td>\n",
       "    </tr>\n",
       "    <tr>\n",
       "      <th>HCC515</th>\n",
       "      <td>3523</td>\n",
       "      <td>12966</td>\n",
       "    </tr>\n",
       "    <tr>\n",
       "      <th>NPC</th>\n",
       "      <td>1074</td>\n",
       "      <td>3301</td>\n",
       "    </tr>\n",
       "  </tbody>\n",
       "</table>\n",
       "</div>"
      ],
      "text/plain": [
       "         pert_desc  cell_id\n",
       "cell_id                    \n",
       "VCAP          4136    20804\n",
       "PC3           3983    21190\n",
       "A375          3827    14800\n",
       "HA1E          3802    14305\n",
       "A549          3725    13949\n",
       "MCF7          3689    19669\n",
       "HT29          3666    13575\n",
       "HEPG2         3563    12868\n",
       "HCC515        3523    12966\n",
       "NPC           1074     3301"
      ]
     },
     "execution_count": 123,
     "metadata": {},
     "output_type": "execute_result"
    }
   ],
   "source": [
    "# cell lines: number of genes knocked down (pert_desc) and number of assays (cell_id)\n",
    "df.query(\"pert_type == 'trt_sh'\").groupby(\"cell_id\").agg({'pert_desc':lambda x:len(set(x)), 'cell_id':len}).sort_values('pert_desc', ascending=False).head(10)"
   ]
  },
  {
   "cell_type": "code",
   "execution_count": 160,
   "metadata": {
    "collapsed": false
   },
   "outputs": [
    {
     "name": "stdout",
     "output_type": "stream",
     "text": [
      "3.0\n"
     ]
    },
    {
     "data": {
      "text/plain": [
       "<matplotlib.axes._subplots.AxesSubplot at 0x7fbccbfc9860>"
      ]
     },
     "execution_count": 160,
     "metadata": {},
     "output_type": "execute_result"
    },
    {
     "data": {
      "image/png": "[encoded data removed]",
      "text/plain": [
       "<matplotlib.figure.Figure at 0x7fbcd9fb42b0>"
      ]
     },
     "metadata": {},
     "output_type": "display_data"
    }
   ],
   "source": [
    "# In PC3 cells, how many times did they knockdown each gene?\n",
    "nrep_vcap = df.query(\"pert_type == 'trt_sh' & cell_id == 'PC3'\").groupby(\"pert_desc\").agg(len)['_id']\n",
    "print(nrep_vcap.median())\n",
    "sns.distplot(nrep_vcap)"
   ]
  },
  {
   "cell_type": "code",
   "execution_count": 154,
   "metadata": {
    "collapsed": false
   },
   "outputs": [
    {
     "data": {
      "text/html": [
       "<div>\n",
       "<table border=\"1\" class=\"dataframe\">\n",
       "  <thead>\n",
       "    <tr style=\"text-align: right;\">\n",
       "      <th></th>\n",
       "      <th>_id</th>\n",
       "      <th>batch</th>\n",
       "      <th>cell_id</th>\n",
       "      <th>pert_desc</th>\n",
       "      <th>pert_dose</th>\n",
       "      <th>pert_dose_unit</th>\n",
       "      <th>pert_id</th>\n",
       "      <th>pert_time</th>\n",
       "      <th>pert_time_unit</th>\n",
       "      <th>pert_type</th>\n",
       "      <th>replicateCount</th>\n",
       "      <th>sig_id</th>\n",
       "    </tr>\n",
       "  </thead>\n",
       "  <tbody>\n",
       "    <tr>\n",
       "      <th>162828</th>\n",
       "      <td>54476c70e4b007b241b27899</td>\n",
       "      <td>EKW001_PC3_120H</td>\n",
       "      <td>PC3</td>\n",
       "      <td>YY1</td>\n",
       "      <td>2.0</td>\n",
       "      <td>ul</td>\n",
       "      <td>TRCN0000297380</td>\n",
       "      <td>120.0</td>\n",
       "      <td>h</td>\n",
       "      <td>trt_sh</td>\n",
       "      <td>3</td>\n",
       "      <td>EKW001_PC3_120H:TRCN0000297380:2.0</td>\n",
       "    </tr>\n",
       "    <tr>\n",
       "      <th>162829</th>\n",
       "      <td>54476c70e4b007b241b2789a</td>\n",
       "      <td>EKW001_PC3_120H</td>\n",
       "      <td>PC3</td>\n",
       "      <td>YY1</td>\n",
       "      <td>2.0</td>\n",
       "      <td>ul</td>\n",
       "      <td>TRCN0000019898</td>\n",
       "      <td>120.0</td>\n",
       "      <td>h</td>\n",
       "      <td>trt_sh</td>\n",
       "      <td>3</td>\n",
       "      <td>EKW001_PC3_120H:TRCN0000019898:2.0</td>\n",
       "    </tr>\n",
       "    <tr>\n",
       "      <th>162840</th>\n",
       "      <td>54476c71e4b007b241b278a5</td>\n",
       "      <td>EKW001_PC3_120H</td>\n",
       "      <td>PC3</td>\n",
       "      <td>YY1</td>\n",
       "      <td>2.0</td>\n",
       "      <td>ul</td>\n",
       "      <td>TRCN0000019895</td>\n",
       "      <td>120.0</td>\n",
       "      <td>h</td>\n",
       "      <td>trt_sh</td>\n",
       "      <td>3</td>\n",
       "      <td>EKW001_PC3_120H:TRCN0000019895:2.0</td>\n",
       "    </tr>\n",
       "    <tr>\n",
       "      <th>191679</th>\n",
       "      <td>544c245fe4b007b241b2e94c</td>\n",
       "      <td>KDA005_PC3_144H</td>\n",
       "      <td>PC3</td>\n",
       "      <td>YY1</td>\n",
       "      <td>-666.0</td>\n",
       "      <td>-666.0</td>\n",
       "      <td>TRCN0000019896</td>\n",
       "      <td>144.0</td>\n",
       "      <td>h</td>\n",
       "      <td>trt_sh</td>\n",
       "      <td>3</td>\n",
       "      <td>KDA005_PC3_144H:TRCN0000019896:-666.0</td>\n",
       "    </tr>\n",
       "    <tr>\n",
       "      <th>191691</th>\n",
       "      <td>544c2460e4b007b241b2e958</td>\n",
       "      <td>KDA005_PC3_144H</td>\n",
       "      <td>PC3</td>\n",
       "      <td>YY1</td>\n",
       "      <td>-666.0</td>\n",
       "      <td>-666.0</td>\n",
       "      <td>TRCN0000019898</td>\n",
       "      <td>144.0</td>\n",
       "      <td>h</td>\n",
       "      <td>trt_sh</td>\n",
       "      <td>3</td>\n",
       "      <td>KDA005_PC3_144H:TRCN0000019898:-666.0</td>\n",
       "    </tr>\n",
       "    <tr>\n",
       "      <th>191715</th>\n",
       "      <td>544c2462e4b007b241b2e970</td>\n",
       "      <td>KDA005_PC3_144H</td>\n",
       "      <td>PC3</td>\n",
       "      <td>YY1</td>\n",
       "      <td>-666.0</td>\n",
       "      <td>-666.0</td>\n",
       "      <td>TRCN0000019894</td>\n",
       "      <td>144.0</td>\n",
       "      <td>h</td>\n",
       "      <td>trt_sh</td>\n",
       "      <td>3</td>\n",
       "      <td>KDA005_PC3_144H:TRCN0000019894:-666.0</td>\n",
       "    </tr>\n",
       "    <tr>\n",
       "      <th>191982</th>\n",
       "      <td>544c32ade4b007b241b2ea7b</td>\n",
       "      <td>KDA005_PC3_96H</td>\n",
       "      <td>PC3</td>\n",
       "      <td>YY1</td>\n",
       "      <td>-666.0</td>\n",
       "      <td>-666.0</td>\n",
       "      <td>TRCN0000019894</td>\n",
       "      <td>96.0</td>\n",
       "      <td>h</td>\n",
       "      <td>trt_sh</td>\n",
       "      <td>3</td>\n",
       "      <td>KDA005_PC3_96H:TRCN0000019894:-666.0</td>\n",
       "    </tr>\n",
       "    <tr>\n",
       "      <th>192032</th>\n",
       "      <td>544c32b1e4b007b241b2eaad</td>\n",
       "      <td>KDA005_PC3_96H</td>\n",
       "      <td>PC3</td>\n",
       "      <td>YY1</td>\n",
       "      <td>-666.0</td>\n",
       "      <td>-666.0</td>\n",
       "      <td>TRCN0000019896</td>\n",
       "      <td>96.0</td>\n",
       "      <td>h</td>\n",
       "      <td>trt_sh</td>\n",
       "      <td>3</td>\n",
       "      <td>KDA005_PC3_96H:TRCN0000019896:-666.0</td>\n",
       "    </tr>\n",
       "    <tr>\n",
       "      <th>192174</th>\n",
       "      <td>544c32bde4b007b241b2eb3b</td>\n",
       "      <td>KDA005_PC3_96H</td>\n",
       "      <td>PC3</td>\n",
       "      <td>YY1</td>\n",
       "      <td>-666.0</td>\n",
       "      <td>-666.0</td>\n",
       "      <td>TRCN0000019898</td>\n",
       "      <td>96.0</td>\n",
       "      <td>h</td>\n",
       "      <td>trt_sh</td>\n",
       "      <td>3</td>\n",
       "      <td>KDA005_PC3_96H:TRCN0000019898:-666.0</td>\n",
       "    </tr>\n",
       "    <tr>\n",
       "      <th>384820</th>\n",
       "      <td>54675919e4b09dc4d8066aad</td>\n",
       "      <td>TAK002_PC3_96H</td>\n",
       "      <td>PC3</td>\n",
       "      <td>YY1</td>\n",
       "      <td>-666.0</td>\n",
       "      <td>-666.0</td>\n",
       "      <td>TRCN0000297380</td>\n",
       "      <td>96.0</td>\n",
       "      <td>h</td>\n",
       "      <td>trt_sh</td>\n",
       "      <td>3</td>\n",
       "      <td>TAK002_PC3_96H:TRCN0000297380:-666.0</td>\n",
       "    </tr>\n",
       "    <tr>\n",
       "      <th>384821</th>\n",
       "      <td>5467591ae4b09dc4d8066aae</td>\n",
       "      <td>TAK002_PC3_96H</td>\n",
       "      <td>PC3</td>\n",
       "      <td>YY1</td>\n",
       "      <td>-666.0</td>\n",
       "      <td>-666.0</td>\n",
       "      <td>TRCN0000019896</td>\n",
       "      <td>96.0</td>\n",
       "      <td>h</td>\n",
       "      <td>trt_sh</td>\n",
       "      <td>3</td>\n",
       "      <td>TAK002_PC3_96H:TRCN0000019896:-666.0</td>\n",
       "    </tr>\n",
       "  </tbody>\n",
       "</table>\n",
       "</div>"
      ],
      "text/plain": [
       "                             _id            batch cell_id pert_desc  \\\n",
       "162828  54476c70e4b007b241b27899  EKW001_PC3_120H     PC3       YY1   \n",
       "162829  54476c70e4b007b241b2789a  EKW001_PC3_120H     PC3       YY1   \n",
       "162840  54476c71e4b007b241b278a5  EKW001_PC3_120H     PC3       YY1   \n",
       "191679  544c245fe4b007b241b2e94c  KDA005_PC3_144H     PC3       YY1   \n",
       "191691  544c2460e4b007b241b2e958  KDA005_PC3_144H     PC3       YY1   \n",
       "191715  544c2462e4b007b241b2e970  KDA005_PC3_144H     PC3       YY1   \n",
       "191982  544c32ade4b007b241b2ea7b   KDA005_PC3_96H     PC3       YY1   \n",
       "192032  544c32b1e4b007b241b2eaad   KDA005_PC3_96H     PC3       YY1   \n",
       "192174  544c32bde4b007b241b2eb3b   KDA005_PC3_96H     PC3       YY1   \n",
       "384820  54675919e4b09dc4d8066aad   TAK002_PC3_96H     PC3       YY1   \n",
       "384821  5467591ae4b09dc4d8066aae   TAK002_PC3_96H     PC3       YY1   \n",
       "\n",
       "        pert_dose pert_dose_unit         pert_id  pert_time pert_time_unit  \\\n",
       "162828        2.0             ul  TRCN0000297380      120.0              h   \n",
       "162829        2.0             ul  TRCN0000019898      120.0              h   \n",
       "162840        2.0             ul  TRCN0000019895      120.0              h   \n",
       "191679     -666.0         -666.0  TRCN0000019896      144.0              h   \n",
       "191691     -666.0         -666.0  TRCN0000019898      144.0              h   \n",
       "191715     -666.0         -666.0  TRCN0000019894      144.0              h   \n",
       "191982     -666.0         -666.0  TRCN0000019894       96.0              h   \n",
       "192032     -666.0         -666.0  TRCN0000019896       96.0              h   \n",
       "192174     -666.0         -666.0  TRCN0000019898       96.0              h   \n",
       "384820     -666.0         -666.0  TRCN0000297380       96.0              h   \n",
       "384821     -666.0         -666.0  TRCN0000019896       96.0              h   \n",
       "\n",
       "       pert_type  replicateCount                                 sig_id  \n",
       "162828    trt_sh               3     EKW001_PC3_120H:TRCN0000297380:2.0  \n",
       "162829    trt_sh               3     EKW001_PC3_120H:TRCN0000019898:2.0  \n",
       "162840    trt_sh               3     EKW001_PC3_120H:TRCN0000019895:2.0  \n",
       "191679    trt_sh               3  KDA005_PC3_144H:TRCN0000019896:-666.0  \n",
       "191691    trt_sh               3  KDA005_PC3_144H:TRCN0000019898:-666.0  \n",
       "191715    trt_sh               3  KDA005_PC3_144H:TRCN0000019894:-666.0  \n",
       "191982    trt_sh               3   KDA005_PC3_96H:TRCN0000019894:-666.0  \n",
       "192032    trt_sh               3   KDA005_PC3_96H:TRCN0000019896:-666.0  \n",
       "192174    trt_sh               3   KDA005_PC3_96H:TRCN0000019898:-666.0  \n",
       "384820    trt_sh               3   TAK002_PC3_96H:TRCN0000297380:-666.0  \n",
       "384821    trt_sh               3   TAK002_PC3_96H:TRCN0000019896:-666.0  "
      ]
     },
     "execution_count": 154,
     "metadata": {},
     "output_type": "execute_result"
    }
   ],
   "source": [
    "## What are the replicates of?\n",
    "sh_PC3_YY1 = df.query(\"pert_type == 'trt_sh' & cell_id == 'PC3' & pert_desc == 'YY1'\")\n",
    "sh_PC3_YY1"
   ]
  },
  {
   "cell_type": "code",
   "execution_count": 155,
   "metadata": {
    "collapsed": false
   },
   "outputs": [
    {
     "data": {
      "text/html": [
       "<div>\n",
       "<table border=\"1\" class=\"dataframe\">\n",
       "  <thead>\n",
       "    <tr style=\"text-align: right;\">\n",
       "      <th></th>\n",
       "      <th>clone_name</th>\n",
       "      <th>target_seq</th>\n",
       "      <th>target_region</th>\n",
       "    </tr>\n",
       "  </thead>\n",
       "  <tbody>\n",
       "    <tr>\n",
       "      <th>TRCN0000297380</th>\n",
       "      <td>NM_003403.3-1641s21c1</td>\n",
       "      <td>CGATGGTTGTAATAAGAAGTT</td>\n",
       "      <td>CDS</td>\n",
       "    </tr>\n",
       "    <tr>\n",
       "      <th>TRCN0000019898</th>\n",
       "      <td>NM_003403.3-904s1c1</td>\n",
       "      <td>GACGACGACTACATTGAACAA</td>\n",
       "      <td>CDS</td>\n",
       "    </tr>\n",
       "    <tr>\n",
       "      <th>TRCN0000019895</th>\n",
       "      <td>NM_003403.3-1297s1c1</td>\n",
       "      <td>CCCAAACAACTGGCAGAATTT</td>\n",
       "      <td>CDS</td>\n",
       "    </tr>\n",
       "    <tr>\n",
       "      <th>TRCN0000019896</th>\n",
       "      <td>NM_003403.3-1641s1c1</td>\n",
       "      <td>CGATGGTTGTAATAAGAAGTT</td>\n",
       "      <td>CDS</td>\n",
       "    </tr>\n",
       "    <tr>\n",
       "      <th>TRCN0000019898</th>\n",
       "      <td>NM_003403.3-904s1c1</td>\n",
       "      <td>GACGACGACTACATTGAACAA</td>\n",
       "      <td>CDS</td>\n",
       "    </tr>\n",
       "    <tr>\n",
       "      <th>TRCN0000019894</th>\n",
       "      <td>NM_003403.3-1793s1c1</td>\n",
       "      <td>GCCTCTCCTTTGTATATTATT</td>\n",
       "      <td>3UTR</td>\n",
       "    </tr>\n",
       "    <tr>\n",
       "      <th>TRCN0000019894</th>\n",
       "      <td>NM_003403.3-1793s1c1</td>\n",
       "      <td>GCCTCTCCTTTGTATATTATT</td>\n",
       "      <td>3UTR</td>\n",
       "    </tr>\n",
       "    <tr>\n",
       "      <th>TRCN0000019896</th>\n",
       "      <td>NM_003403.3-1641s1c1</td>\n",
       "      <td>CGATGGTTGTAATAAGAAGTT</td>\n",
       "      <td>CDS</td>\n",
       "    </tr>\n",
       "    <tr>\n",
       "      <th>TRCN0000019898</th>\n",
       "      <td>NM_003403.3-904s1c1</td>\n",
       "      <td>GACGACGACTACATTGAACAA</td>\n",
       "      <td>CDS</td>\n",
       "    </tr>\n",
       "    <tr>\n",
       "      <th>TRCN0000297380</th>\n",
       "      <td>NM_003403.3-1641s21c1</td>\n",
       "      <td>CGATGGTTGTAATAAGAAGTT</td>\n",
       "      <td>CDS</td>\n",
       "    </tr>\n",
       "    <tr>\n",
       "      <th>TRCN0000019896</th>\n",
       "      <td>NM_003403.3-1641s1c1</td>\n",
       "      <td>CGATGGTTGTAATAAGAAGTT</td>\n",
       "      <td>CDS</td>\n",
       "    </tr>\n",
       "  </tbody>\n",
       "</table>\n",
       "</div>"
      ],
      "text/plain": [
       "                           clone_name             target_seq target_region\n",
       "TRCN0000297380  NM_003403.3-1641s21c1  CGATGGTTGTAATAAGAAGTT           CDS\n",
       "TRCN0000019898    NM_003403.3-904s1c1  GACGACGACTACATTGAACAA           CDS\n",
       "TRCN0000019895   NM_003403.3-1297s1c1  CCCAAACAACTGGCAGAATTT           CDS\n",
       "TRCN0000019896   NM_003403.3-1641s1c1  CGATGGTTGTAATAAGAAGTT           CDS\n",
       "TRCN0000019898    NM_003403.3-904s1c1  GACGACGACTACATTGAACAA           CDS\n",
       "TRCN0000019894   NM_003403.3-1793s1c1  GCCTCTCCTTTGTATATTATT          3UTR\n",
       "TRCN0000019894   NM_003403.3-1793s1c1  GCCTCTCCTTTGTATATTATT          3UTR\n",
       "TRCN0000019896   NM_003403.3-1641s1c1  CGATGGTTGTAATAAGAAGTT           CDS\n",
       "TRCN0000019898    NM_003403.3-904s1c1  GACGACGACTACATTGAACAA           CDS\n",
       "TRCN0000297380  NM_003403.3-1641s21c1  CGATGGTTGTAATAAGAAGTT           CDS\n",
       "TRCN0000019896   NM_003403.3-1641s1c1  CGATGGTTGTAATAAGAAGTT           CDS"
      ]
     },
     "execution_count": 155,
     "metadata": {},
     "output_type": "execute_result"
    }
   ],
   "source": [
    "pert_info.loc[sh_PC3_YY1.pert_id,['clone_name','target_seq','target_region']]"
   ]
  },
  {
   "cell_type": "code",
   "execution_count": null,
   "metadata": {
    "collapsed": true
   },
   "outputs": [],
   "source": [
    "# They did different clones, targetting different regions on the same gene (or UTR), and also different time points"
   ]
  },
  {
   "cell_type": "code",
   "execution_count": 158,
   "metadata": {
    "collapsed": false
   },
   "outputs": [
    {
     "data": {
      "text/html": [
       "<div>\n",
       "<table border=\"1\" class=\"dataframe\">\n",
       "  <thead>\n",
       "    <tr style=\"text-align: right;\">\n",
       "      <th></th>\n",
       "      <th>_id</th>\n",
       "      <th>batch</th>\n",
       "      <th>cell_id</th>\n",
       "      <th>pert_desc</th>\n",
       "      <th>pert_dose</th>\n",
       "      <th>pert_dose_unit</th>\n",
       "      <th>pert_id</th>\n",
       "      <th>pert_time</th>\n",
       "      <th>pert_time_unit</th>\n",
       "      <th>pert_type</th>\n",
       "      <th>replicateCount</th>\n",
       "      <th>sig_id</th>\n",
       "    </tr>\n",
       "  </thead>\n",
       "  <tbody>\n",
       "    <tr>\n",
       "      <th>386474</th>\n",
       "      <td>5467a473e4b09dc4d8067123</td>\n",
       "      <td>KDB001_PC3_96H</td>\n",
       "      <td>PC3</td>\n",
       "      <td>FIS1</td>\n",
       "      <td>-666.0</td>\n",
       "      <td>-666</td>\n",
       "      <td>TRCN0000281304</td>\n",
       "      <td>96.0</td>\n",
       "      <td>h</td>\n",
       "      <td>trt_sh</td>\n",
       "      <td>2</td>\n",
       "      <td>KDB001_PC3_96H:TRCN0000281304:-666.0</td>\n",
       "    </tr>\n",
       "    <tr>\n",
       "      <th>386475</th>\n",
       "      <td>5467a473e4b09dc4d8067124</td>\n",
       "      <td>KDB001_PC3_96H</td>\n",
       "      <td>PC3</td>\n",
       "      <td>FIS1</td>\n",
       "      <td>-666.0</td>\n",
       "      <td>-666</td>\n",
       "      <td>TRCN0000154799</td>\n",
       "      <td>96.0</td>\n",
       "      <td>h</td>\n",
       "      <td>trt_sh</td>\n",
       "      <td>2</td>\n",
       "      <td>KDB001_PC3_96H:TRCN0000154799:-666.0</td>\n",
       "    </tr>\n",
       "    <tr>\n",
       "      <th>386600</th>\n",
       "      <td>5467a47ce4b09dc4d80671a1</td>\n",
       "      <td>KDB001_PC3_96H</td>\n",
       "      <td>PC3</td>\n",
       "      <td>FIS1</td>\n",
       "      <td>-666.0</td>\n",
       "      <td>-666</td>\n",
       "      <td>TRCN0000155276</td>\n",
       "      <td>96.0</td>\n",
       "      <td>h</td>\n",
       "      <td>trt_sh</td>\n",
       "      <td>2</td>\n",
       "      <td>KDB001_PC3_96H:TRCN0000155276:-666.0</td>\n",
       "    </tr>\n",
       "  </tbody>\n",
       "</table>\n",
       "</div>"
      ],
      "text/plain": [
       "                             _id           batch cell_id pert_desc  pert_dose  \\\n",
       "386474  5467a473e4b09dc4d8067123  KDB001_PC3_96H     PC3      FIS1     -666.0   \n",
       "386475  5467a473e4b09dc4d8067124  KDB001_PC3_96H     PC3      FIS1     -666.0   \n",
       "386600  5467a47ce4b09dc4d80671a1  KDB001_PC3_96H     PC3      FIS1     -666.0   \n",
       "\n",
       "       pert_dose_unit         pert_id  pert_time pert_time_unit pert_type  \\\n",
       "386474           -666  TRCN0000281304       96.0              h    trt_sh   \n",
       "386475           -666  TRCN0000154799       96.0              h    trt_sh   \n",
       "386600           -666  TRCN0000155276       96.0              h    trt_sh   \n",
       "\n",
       "        replicateCount                                sig_id  \n",
       "386474               2  KDB001_PC3_96H:TRCN0000281304:-666.0  \n",
       "386475               2  KDB001_PC3_96H:TRCN0000154799:-666.0  \n",
       "386600               2  KDB001_PC3_96H:TRCN0000155276:-666.0  "
      ]
     },
     "execution_count": 158,
     "metadata": {},
     "output_type": "execute_result"
    }
   ],
   "source": [
    "# On ones with 3 reps:\n",
    "sh_PC3_FIS1 = df.query(\"pert_type == 'trt_sh' & cell_id == 'PC3' & pert_desc == 'FIS1'\")\n",
    "sh_PC3_FIS1"
   ]
  },
  {
   "cell_type": "code",
   "execution_count": 159,
   "metadata": {
    "collapsed": false
   },
   "outputs": [
    {
     "data": {
      "text/html": [
       "<div>\n",
       "<table border=\"1\" class=\"dataframe\">\n",
       "  <thead>\n",
       "    <tr style=\"text-align: right;\">\n",
       "      <th></th>\n",
       "      <th>clone_name</th>\n",
       "      <th>target_seq</th>\n",
       "      <th>target_region</th>\n",
       "    </tr>\n",
       "  </thead>\n",
       "  <tbody>\n",
       "    <tr>\n",
       "      <th>TRCN0000281304</th>\n",
       "      <td>NM_016068.2-179s21c1</td>\n",
       "      <td>CAAGAGCACGCAGTTTGAGTA</td>\n",
       "      <td>CDS</td>\n",
       "    </tr>\n",
       "    <tr>\n",
       "      <th>TRCN0000154799</th>\n",
       "      <td>NM_016068.1-321s1c1</td>\n",
       "      <td>GAACTACCGGCTCAAGGAATA</td>\n",
       "      <td>CDS</td>\n",
       "    </tr>\n",
       "    <tr>\n",
       "      <th>TRCN0000155276</th>\n",
       "      <td>NM_016068.1-417s1c1</td>\n",
       "      <td>GCTCATTGACAAGGCCATGAA</td>\n",
       "      <td>CDS</td>\n",
       "    </tr>\n",
       "  </tbody>\n",
       "</table>\n",
       "</div>"
      ],
      "text/plain": [
       "                          clone_name             target_seq target_region\n",
       "TRCN0000281304  NM_016068.2-179s21c1  CAAGAGCACGCAGTTTGAGTA           CDS\n",
       "TRCN0000154799   NM_016068.1-321s1c1  GAACTACCGGCTCAAGGAATA           CDS\n",
       "TRCN0000155276   NM_016068.1-417s1c1  GCTCATTGACAAGGCCATGAA           CDS"
      ]
     },
     "execution_count": 159,
     "metadata": {},
     "output_type": "execute_result"
    }
   ],
   "source": [
    "pert_info.loc[sh_PC3_FIS1.pert_id,['clone_name','target_seq','target_region']]"
   ]
  },
  {
   "cell_type": "markdown",
   "metadata": {
    "collapsed": false,
    "scrolled": true
   },
   "source": [
    "### Chemical compound"
   ]
  },
  {
   "cell_type": "code",
   "execution_count": 165,
   "metadata": {
    "collapsed": false
   },
   "outputs": [
    {
     "data": {
      "text/html": [
       "<div>\n",
       "<table border=\"1\" class=\"dataframe\">\n",
       "  <thead>\n",
       "    <tr style=\"text-align: right;\">\n",
       "      <th></th>\n",
       "      <th>pert_id</th>\n",
       "      <th>cell_id</th>\n",
       "    </tr>\n",
       "    <tr>\n",
       "      <th>cell_id</th>\n",
       "      <th></th>\n",
       "      <th></th>\n",
       "    </tr>\n",
       "  </thead>\n",
       "  <tbody>\n",
       "    <tr>\n",
       "      <th>VCAP</th>\n",
       "      <td>15852</td>\n",
       "      <td>33320</td>\n",
       "    </tr>\n",
       "    <tr>\n",
       "      <th>A549</th>\n",
       "      <td>12497</td>\n",
       "      <td>21231</td>\n",
       "    </tr>\n",
       "    <tr>\n",
       "      <th>A375</th>\n",
       "      <td>11335</td>\n",
       "      <td>15104</td>\n",
       "    </tr>\n",
       "    <tr>\n",
       "      <th>MCF7</th>\n",
       "      <td>11265</td>\n",
       "      <td>29215</td>\n",
       "    </tr>\n",
       "    <tr>\n",
       "      <th>HT29</th>\n",
       "      <td>10913</td>\n",
       "      <td>14182</td>\n",
       "    </tr>\n",
       "    <tr>\n",
       "      <th>PC3</th>\n",
       "      <td>10908</td>\n",
       "      <td>22149</td>\n",
       "    </tr>\n",
       "    <tr>\n",
       "      <th>HCC515</th>\n",
       "      <td>5044</td>\n",
       "      <td>8201</td>\n",
       "    </tr>\n",
       "    <tr>\n",
       "      <th>HA1E</th>\n",
       "      <td>4959</td>\n",
       "      <td>9283</td>\n",
       "    </tr>\n",
       "    <tr>\n",
       "      <th>HEPG2</th>\n",
       "      <td>3927</td>\n",
       "      <td>5644</td>\n",
       "    </tr>\n",
       "    <tr>\n",
       "      <th>NPC</th>\n",
       "      <td>3494</td>\n",
       "      <td>4282</td>\n",
       "    </tr>\n",
       "  </tbody>\n",
       "</table>\n",
       "</div>"
      ],
      "text/plain": [
       "         pert_id  cell_id\n",
       "cell_id                  \n",
       "VCAP       15852    33320\n",
       "A549       12497    21231\n",
       "A375       11335    15104\n",
       "MCF7       11265    29215\n",
       "HT29       10913    14182\n",
       "PC3        10908    22149\n",
       "HCC515      5044     8201\n",
       "HA1E        4959     9283\n",
       "HEPG2       3927     5644\n",
       "NPC         3494     4282"
      ]
     },
     "execution_count": 165,
     "metadata": {},
     "output_type": "execute_result"
    }
   ],
   "source": [
    "# cell lines: number of drugs used (pert_id) and number of assays (cell_id)\n",
    "df_cp = df.query(\"pert_type == 'trt_cp'\")\n",
    "df_cp.groupby(\"cell_id\").agg({'pert_id':lambda x:len(set(x)), 'cell_id':len}).sort_values('pert_id', ascending=False).head(10)"
   ]
  },
  {
   "cell_type": "code",
   "execution_count": 250,
   "metadata": {
    "collapsed": false
   },
   "outputs": [],
   "source": [
    "# save the perturbation name for compounds\n",
    "pert_id_name = pert_info.pert_iname.to_dict()\n",
    "name = df_cp.pert_id.apply(lambda x:pert_id_name.get(x, None))\n",
    "name.index = df_cp.index.copy()\n",
    "df_cp = df_cp.assign(pert_name = name)"
   ]
  },
  {
   "cell_type": "code",
   "execution_count": 254,
   "metadata": {
    "collapsed": false,
    "scrolled": true
   },
   "outputs": [
    {
     "data": {
      "text/plain": [
       "172396       HDACi1,2 + 3_mix\n",
       "172397       HDACi1,2 + 3_mix\n",
       "172398       HDACi1,2 + 3_mix\n",
       "172399       HDACi1,2 + 3_mix\n",
       "172401       HDACi1,2 + 3_mix\n",
       "172411       HDACi1,2 + 3_mix\n",
       "172433       HDACi1,2 + 3_mix\n",
       "172480       HDACi1,2 + 3_mix\n",
       "172559       HDACi1,2 + 3_mix\n",
       "172561       HDACi1,2 + 3_mix\n",
       "172562       HDACi1,2 + 3_mix\n",
       "172564       HDACi1,2 + 3_mix\n",
       "172568       HDACi1,2 + 3_mix\n",
       "172591       HDACi1,2 + 3_mix\n",
       "172634       HDACi1,2 + 3_mix\n",
       "172668       HDACi1,2 + 3_mix\n",
       "172730       HDACi1,2 + 3_mix\n",
       "172731       HDACi1,2 + 3_mix\n",
       "172751       HDACi1,2 + 3_mix\n",
       "172757       HDACi1,2 + 3_mix\n",
       "172778       HDACi1,2 + 3_mix\n",
       "172807       HDACi1,2 + 3_mix\n",
       "172823       HDACi1,2 + 3_mix\n",
       "172827       HDACi1,2 + 3_mix\n",
       "172907       HDACi1,2 + 3_mix\n",
       "172908       HDACi1,2 + 3_mix\n",
       "172935       HDACi1,2 + 3_mix\n",
       "172936       HDACi1,2 + 3_mix\n",
       "172981       HDACi1,2 + 3_mix\n",
       "172988       HDACi1,2 + 3_mix\n",
       "173009       HDACi1,2 + 3_mix\n",
       "173016       HDACi1,2 + 3_mix\n",
       "173080       HDACi1,2 + 3_mix\n",
       "173083       HDACi1,2 + 3_mix\n",
       "173084       HDACi1,2 + 3_mix\n",
       "173085       HDACi1,2 + 3_mix\n",
       "173087       HDACi1,2 + 3_mix\n",
       "173124       HDACi1,2 + 3_mix\n",
       "173181       HDACi1,2 + 3_mix\n",
       "173186       HDACi1,2 + 3_mix\n",
       "173248       HDACi1,2 + 3_mix\n",
       "173249       HDACi1,2 + 3_mix\n",
       "173252       HDACi1,2 + 3_mix\n",
       "173255       HDACi1,2 + 3_mix\n",
       "173256       HDACi1,2 + 3_mix\n",
       "173264       HDACi1,2 + 3_mix\n",
       "173309       HDACi1,2 + 3_mix\n",
       "173340       HDACi1,2 + 3_mix\n",
       "341523              1B Parent\n",
       "341580              1B Parent\n",
       "341665              1B Parent\n",
       "341723              1B Parent\n",
       "341756              1B Parent\n",
       "341818              1B Parent\n",
       "pert_name                 NaN\n",
       "Name: pert_desc, dtype: object"
      ]
     },
     "execution_count": 254,
     "metadata": {},
     "output_type": "execute_result"
    }
   ],
   "source": [
    "#55 that are mixes of something?\n",
    "df_cp[df_cp.pert_name.isnull()].pert_desc"
   ]
  },
  {
   "cell_type": "code",
   "execution_count": 255,
   "metadata": {
    "collapsed": false,
    "scrolled": true
   },
   "outputs": [
    {
     "data": {
      "text/plain": [
       "pert_name\n",
       "vorinostat        481\n",
       "sirolimus         413\n",
       "curcumin          326\n",
       "estradiol         301\n",
       "wortmannin        296\n",
       "trichostatin-a    286\n",
       "geldanamycin      265\n",
       "tozasertib        262\n",
       "sulforaphane      262\n",
       "tamoxifen         257\n",
       "dexamethasone     246\n",
       "tretinoin         214\n",
       "tanespimycin      200\n",
       "LY-294002         198\n",
       "BRD-K98948170     197\n",
       "parthenolide      191\n",
       "resveratrol       172\n",
       "panobinostat      170\n",
       "genistein         169\n",
       "barasertib        166\n",
       "Name: _id, dtype: int64"
      ]
     },
     "execution_count": 255,
     "metadata": {},
     "output_type": "execute_result"
    }
   ],
   "source": [
    "# What are the most common drugs and how many assays were they used in?\n",
    "df_cp.groupby('pert_name').agg(len)['_id'].sort_values(ascending=False).head(20)"
   ]
  },
  {
   "cell_type": "code",
   "execution_count": 256,
   "metadata": {
    "collapsed": false
   },
   "outputs": [
    {
     "data": {
      "image/png": "[encoded data removed]",
      "text/plain": [
       "<matplotlib.figure.Figure at 0x7fbccabff0b8>"
      ]
     },
     "metadata": {},
     "output_type": "display_data"
    },
    {
     "data": {
      "image/png": "[encoded data removed]",
      "text/plain": [
       "<matplotlib.figure.Figure at 0x7fbccabff4a8>"
      ]
     },
     "metadata": {},
     "output_type": "display_data"
    }
   ],
   "source": [
    "# On average, how many assay per drug?\n",
    "num_assays_per_drug = df_cp.groupby(\"pert_name\").agg({'cell_id': len})['cell_id']\n",
    "sns.distplot(num_assays_per_drug[num_assays_per_drug<50])\n",
    "sns.plt.title('number of assays per drug')\n",
    "sns.plt.xlabel(\"number of assays\")\n",
    "sns.plt.show()\n",
    "sns.distplot(num_assays_per_drug)\n",
    "sns.plt.title('number of assays per drug')\n",
    "sns.plt.xlabel(\"number of assays\")\n",
    "sns.plt.show()"
   ]
  },
  {
   "cell_type": "code",
   "execution_count": 261,
   "metadata": {
    "collapsed": false
   },
   "outputs": [
    {
     "name": "stdout",
     "output_type": "stream",
     "text": [
      "Number of assays: 481\n",
      "Number of cell lines: 56\n",
      "Number of perturbation dosages: 42\n",
      "0.0012207000000000001 - 30.0 {'um'}\n"
     ]
    },
    {
     "data": {
      "image/png": "[encoded data removed]",
      "text/plain": [
       "<matplotlib.figure.Figure at 0x7fbcca84a390>"
      ]
     },
     "metadata": {},
     "output_type": "display_data"
    },
    {
     "data": {
      "image/png": "[encoded data removed]",
      "text/plain": [
       "<matplotlib.figure.Figure at 0x7fbcc9f8aa90>"
      ]
     },
     "metadata": {},
     "output_type": "display_data"
    }
   ],
   "source": [
    "# what did they do with these?\n",
    "drug = \"vorinostat\"\n",
    "def assay_info(drug):\n",
    "    this_df = df_cp[df_cp.pert_name == drug]\n",
    "    print(\"Number of assays: {}\".format(len(this_df.cell_id)))\n",
    "    print(\"Number of cell lines: {}\".format(len(set(this_df.cell_id))))\n",
    "    print(\"Number of perturbation dosages: {}\".format(len(set(this_df.pert_dose))))\n",
    "    print(\"{} - {} {}\".format(this_df.pert_dose.min(), this_df.pert_dose.max(), set(this_df.pert_dose_unit)))\n",
    "\n",
    "    sns.distplot(this_df.groupby(\"cell_id\").agg({'pert_dose':lambda x: len(set(x))}))\n",
    "    sns.plt.title('number of dosages per cell line: {}'.format(drug))\n",
    "    sns.plt.show()\n",
    "\n",
    "    sns.distplot(this_df.groupby(\"cell_id\").agg({'pert_time':lambda x: len(set(x))}))\n",
    "    sns.plt.title('number of time points per cell line: {}'.format(drug))\n",
    "    sns.plt.show()\n",
    "assay_info(drug)"
   ]
  },
  {
   "cell_type": "code",
   "execution_count": 262,
   "metadata": {
    "collapsed": false
   },
   "outputs": [
    {
     "name": "stdout",
     "output_type": "stream",
     "text": [
      "Number of assays: 95\n",
      "Number of cell lines: 17\n",
      "Number of perturbation dosages: 7\n",
      "0.37000000476800005 - 10.0 {'um'}\n"
     ]
    },
    {
     "data": {
      "image/png": "[encoded data removed]",
      "text/plain": [
       "<matplotlib.figure.Figure at 0x7fbcca869be0>"
      ]
     },
     "metadata": {},
     "output_type": "display_data"
    },
    {
     "data": {
      "image/png": "[encoded data removed]",
      "text/plain": [
       "<matplotlib.figure.Figure at 0x7fbcc9e872e8>"
      ]
     },
     "metadata": {},
     "output_type": "display_data"
    }
   ],
   "source": [
    "assay_info(\"cycloheximide\")"
   ]
  }
 ],
 "metadata": {
  "kernelspec": {
   "display_name": "Python 3",
   "language": "python",
   "name": "python3"
  },
  "language_info": {
   "codemirror_mode": {
    "name": "ipython",
    "version": 3
   },
   "file_extension": ".py",
   "mimetype": "text/x-python",
   "name": "python",
   "nbconvert_exporter": "python",
   "pygments_lexer": "ipython3",
   "version": "3.5.2"
  }
 },
 "nbformat": 4,
 "nbformat_minor": 0
}
